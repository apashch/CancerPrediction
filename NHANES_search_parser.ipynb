{
 "cells": [
  {
   "cell_type": "code",
   "execution_count": 1,
   "metadata": {
    "collapsed": true
   },
   "outputs": [],
   "source": [
    "import pandas as pd\n",
    "import string"
   ]
  },
  {
   "cell_type": "code",
   "execution_count": 11,
   "metadata": {
    "collapsed": false
   },
   "outputs": [
    {
     "data": {
      "text/html": [
       "<div>\n",
       "<style scoped>\n",
       "    .dataframe tbody tr th:only-of-type {\n",
       "        vertical-align: middle;\n",
       "    }\n",
       "\n",
       "    .dataframe tbody tr th {\n",
       "        vertical-align: top;\n",
       "    }\n",
       "\n",
       "    .dataframe thead th {\n",
       "        text-align: right;\n",
       "    }\n",
       "</style>\n",
       "<table border=\"1\" class=\"dataframe\">\n",
       "  <thead>\n",
       "    <tr style=\"text-align: right;\">\n",
       "      <th></th>\n",
       "      <th>Variable Name</th>\n",
       "      <th>SAS Label</th>\n",
       "      <th>Variable Description</th>\n",
       "      <th>Data File Name</th>\n",
       "      <th>Component Link</th>\n",
       "    </tr>\n",
       "  </thead>\n",
       "  <tbody>\n",
       "    <tr>\n",
       "      <th>0</th>\n",
       "      <td>ACD011A</td>\n",
       "      <td>Speak English at home - NHW or NHB</td>\n",
       "      <td>What language(s) {do you/does SP} usually spea...</td>\n",
       "      <td>Acculturation (ACQ_I)</td>\n",
       "      <td>2015-2016 Questionnaire</td>\n",
       "    </tr>\n",
       "    <tr>\n",
       "      <th>1</th>\n",
       "      <td>ACD011B</td>\n",
       "      <td>Speak Spanish at home - NHW or NHB</td>\n",
       "      <td>What language(s) {do you/does SP} usually spea...</td>\n",
       "      <td>Acculturation (ACQ_I)</td>\n",
       "      <td>2015-2016 Questionnaire</td>\n",
       "    </tr>\n",
       "    <tr>\n",
       "      <th>2</th>\n",
       "      <td>ACD011C</td>\n",
       "      <td>Speak other language at home -NHW or NHB</td>\n",
       "      <td>What language(s) {do you/does SP} usually spea...</td>\n",
       "      <td>Acculturation (ACQ_I)</td>\n",
       "      <td>2015-2016 Questionnaire</td>\n",
       "    </tr>\n",
       "    <tr>\n",
       "      <th>3</th>\n",
       "      <td>ACD040</td>\n",
       "      <td>Language(s) spoken at home - Hispanics</td>\n",
       "      <td>Now I'm going to ask you about language use. W...</td>\n",
       "      <td>Acculturation (ACQ_I)</td>\n",
       "      <td>2015-2016 Questionnaire</td>\n",
       "    </tr>\n",
       "    <tr>\n",
       "      <th>4</th>\n",
       "      <td>ACD110</td>\n",
       "      <td>Language(s) spoken at home - Asians</td>\n",
       "      <td>{Do you/Does SP} speak only (NON-ENGLISH LANGU...</td>\n",
       "      <td>Acculturation (ACQ_I)</td>\n",
       "      <td>2015-2016 Questionnaire</td>\n",
       "    </tr>\n",
       "  </tbody>\n",
       "</table>\n",
       "</div>"
      ],
      "text/plain": [
       "  Variable Name                                 SAS Label  \\\n",
       "0       ACD011A        Speak English at home - NHW or NHB   \n",
       "1       ACD011B        Speak Spanish at home - NHW or NHB   \n",
       "2       ACD011C  Speak other language at home -NHW or NHB   \n",
       "3        ACD040    Language(s) spoken at home - Hispanics   \n",
       "4        ACD110       Language(s) spoken at home - Asians   \n",
       "\n",
       "                                Variable Description         Data File Name  \\\n",
       "0  What language(s) {do you/does SP} usually spea...  Acculturation (ACQ_I)   \n",
       "1  What language(s) {do you/does SP} usually spea...  Acculturation (ACQ_I)   \n",
       "2  What language(s) {do you/does SP} usually spea...  Acculturation (ACQ_I)   \n",
       "3  Now I'm going to ask you about language use. W...  Acculturation (ACQ_I)   \n",
       "4  {Do you/Does SP} speak only (NON-ENGLISH LANGU...  Acculturation (ACQ_I)   \n",
       "\n",
       "            Component Link  \n",
       "0  2015-2016 Questionnaire  \n",
       "1  2015-2016 Questionnaire  \n",
       "2  2015-2016 Questionnaire  \n",
       "3  2015-2016 Questionnaire  \n",
       "4  2015-2016 Questionnaire  "
      ]
     },
     "execution_count": 11,
     "metadata": {},
     "output_type": "execute_result"
    }
   ],
   "source": [
    "url = \"/Users/Artem/Documents/CS 205/NHANES_search_results/NHANES Search Variables-A.html\"\n",
    "df_raw = pd.read_html(url, attrs = {'id' : 'GridView1'})[0]\n",
    "df_raw.head()"
   ]
  },
  {
   "cell_type": "code",
   "execution_count": 3,
   "metadata": {
    "collapsed": false
   },
   "outputs": [
    {
     "data": {
      "text/html": [
       "<div>\n",
       "<style scoped>\n",
       "    .dataframe tbody tr th:only-of-type {\n",
       "        vertical-align: middle;\n",
       "    }\n",
       "\n",
       "    .dataframe tbody tr th {\n",
       "        vertical-align: top;\n",
       "    }\n",
       "\n",
       "    .dataframe thead th {\n",
       "        text-align: right;\n",
       "    }\n",
       "</style>\n",
       "<table border=\"1\" class=\"dataframe\">\n",
       "  <thead>\n",
       "    <tr style=\"text-align: right;\">\n",
       "      <th></th>\n",
       "      <th>feature</th>\n",
       "      <th>file</th>\n",
       "      <th>folder</th>\n",
       "    </tr>\n",
       "  </thead>\n",
       "  <tbody>\n",
       "    <tr>\n",
       "      <th>0</th>\n",
       "      <td>ACD011A</td>\n",
       "      <td>Acculturation (ACQ_I)</td>\n",
       "      <td>2015-2016 Questionnaire</td>\n",
       "    </tr>\n",
       "    <tr>\n",
       "      <th>1</th>\n",
       "      <td>ACD011B</td>\n",
       "      <td>Acculturation (ACQ_I)</td>\n",
       "      <td>2015-2016 Questionnaire</td>\n",
       "    </tr>\n",
       "    <tr>\n",
       "      <th>2</th>\n",
       "      <td>ACD011C</td>\n",
       "      <td>Acculturation (ACQ_I)</td>\n",
       "      <td>2015-2016 Questionnaire</td>\n",
       "    </tr>\n",
       "    <tr>\n",
       "      <th>3</th>\n",
       "      <td>ACD040</td>\n",
       "      <td>Acculturation (ACQ_I)</td>\n",
       "      <td>2015-2016 Questionnaire</td>\n",
       "    </tr>\n",
       "    <tr>\n",
       "      <th>4</th>\n",
       "      <td>ACD110</td>\n",
       "      <td>Acculturation (ACQ_I)</td>\n",
       "      <td>2015-2016 Questionnaire</td>\n",
       "    </tr>\n",
       "  </tbody>\n",
       "</table>\n",
       "</div>"
      ],
      "text/plain": [
       "   feature                   file                   folder\n",
       "0  ACD011A  Acculturation (ACQ_I)  2015-2016 Questionnaire\n",
       "1  ACD011B  Acculturation (ACQ_I)  2015-2016 Questionnaire\n",
       "2  ACD011C  Acculturation (ACQ_I)  2015-2016 Questionnaire\n",
       "3   ACD040  Acculturation (ACQ_I)  2015-2016 Questionnaire\n",
       "4   ACD110  Acculturation (ACQ_I)  2015-2016 Questionnaire"
      ]
     },
     "execution_count": 3,
     "metadata": {},
     "output_type": "execute_result"
    }
   ],
   "source": [
    "#convert into convinient table\n",
    "drop_columns = ['SAS Label', 'Variable Description']\n",
    "df_useful = df_raw.drop(drop_columns, axis = 1)\n",
    "df_useful.columns = [\"feature\", \"file\", 'folder']\n",
    "df_useful.head()"
   ]
  },
  {
   "cell_type": "code",
   "execution_count": 4,
   "metadata": {
    "collapsed": false
   },
   "outputs": [
    {
     "data": {
      "text/html": [
       "<div>\n",
       "<style scoped>\n",
       "    .dataframe tbody tr th:only-of-type {\n",
       "        vertical-align: middle;\n",
       "    }\n",
       "\n",
       "    .dataframe tbody tr th {\n",
       "        vertical-align: top;\n",
       "    }\n",
       "\n",
       "    .dataframe thead th {\n",
       "        text-align: right;\n",
       "    }\n",
       "</style>\n",
       "<table border=\"1\" class=\"dataframe\">\n",
       "  <thead>\n",
       "    <tr style=\"text-align: right;\">\n",
       "      <th></th>\n",
       "      <th>feature</th>\n",
       "      <th>file</th>\n",
       "      <th>folder</th>\n",
       "    </tr>\n",
       "  </thead>\n",
       "  <tbody>\n",
       "    <tr>\n",
       "      <th>0</th>\n",
       "      <td>ACD011A</td>\n",
       "      <td>ACQ_I</td>\n",
       "      <td>Questionnaire</td>\n",
       "    </tr>\n",
       "    <tr>\n",
       "      <th>1</th>\n",
       "      <td>ACD011B</td>\n",
       "      <td>ACQ_I</td>\n",
       "      <td>Questionnaire</td>\n",
       "    </tr>\n",
       "    <tr>\n",
       "      <th>2</th>\n",
       "      <td>ACD011C</td>\n",
       "      <td>ACQ_I</td>\n",
       "      <td>Questionnaire</td>\n",
       "    </tr>\n",
       "    <tr>\n",
       "      <th>3</th>\n",
       "      <td>ACD040</td>\n",
       "      <td>ACQ_I</td>\n",
       "      <td>Questionnaire</td>\n",
       "    </tr>\n",
       "    <tr>\n",
       "      <th>4</th>\n",
       "      <td>ACD110</td>\n",
       "      <td>ACQ_I</td>\n",
       "      <td>Questionnaire</td>\n",
       "    </tr>\n",
       "  </tbody>\n",
       "</table>\n",
       "</div>"
      ],
      "text/plain": [
       "   feature   file         folder\n",
       "0  ACD011A  ACQ_I  Questionnaire\n",
       "1  ACD011B  ACQ_I  Questionnaire\n",
       "2  ACD011C  ACQ_I  Questionnaire\n",
       "3   ACD040  ACQ_I  Questionnaire\n",
       "4   ACD110  ACQ_I  Questionnaire"
      ]
     },
     "execution_count": 4,
     "metadata": {},
     "output_type": "execute_result"
    }
   ],
   "source": [
    "# drop extra info from 2ns and 3rd columns\n",
    "df_useful.file = df_useful.file.apply(lambda x: x.split('(')[-1].split(')')[0])\n",
    "df_useful.folder = df_useful.folder.apply(lambda x: x.split(' ')[1])\n",
    "df_useful.head()"
   ]
  },
  {
   "cell_type": "code",
   "execution_count": 12,
   "metadata": {
    "collapsed": true
   },
   "outputs": [],
   "source": [
    "#rewrite everythig we did above as a function\n",
    "def parse_file(url):\n",
    "    df_raw = pd.read_html(url, attrs = {'id' : 'GridView1'})[0]\n",
    "    drop_columns = ['SAS Label', 'Variable Description']\n",
    "    df_useful = df_raw.drop(drop_columns, axis = 1)\n",
    "    df_useful.columns = [\"feature\", \"file\", 'folder']\n",
    "    df_useful.file = df_useful.file.apply(lambda x: x.split('(')[-1].split(')')[0])\n",
    "    df_useful.folder = df_useful.folder.apply(lambda x: x.split(' ')[1])\n",
    "    return df_useful"
   ]
  },
  {
   "cell_type": "code",
   "execution_count": 20,
   "metadata": {
    "collapsed": false
   },
   "outputs": [
    {
     "name": "stdout",
     "output_type": "stream",
     "text": [
      "/Users/Artem/Documents/CS 205/NHANES_search_results/NHANES Search Variables-A.html\n",
      "/Users/Artem/Documents/CS 205/NHANES_search_results/NHANES Search Variables-B.html\n",
      "/Users/Artem/Documents/CS 205/NHANES_search_results/NHANES Search Variables-C.html\n",
      "/Users/Artem/Documents/CS 205/NHANES_search_results/NHANES Search Variables-D.html\n",
      "/Users/Artem/Documents/CS 205/NHANES_search_results/NHANES Search Variables-E.html\n",
      "/Users/Artem/Documents/CS 205/NHANES_search_results/NHANES Search Variables-F.html\n",
      "/Users/Artem/Documents/CS 205/NHANES_search_results/NHANES Search Variables-G.html\n",
      "/Users/Artem/Documents/CS 205/NHANES_search_results/NHANES Search Variables-H.html\n",
      "/Users/Artem/Documents/CS 205/NHANES_search_results/NHANES Search Variables-I.html\n",
      "/Users/Artem/Documents/CS 205/NHANES_search_results/NHANES Search Variables-J.html\n",
      "/Users/Artem/Documents/CS 205/NHANES_search_results/NHANES Search Variables-K.html\n",
      "/Users/Artem/Documents/CS 205/NHANES_search_results/NHANES Search Variables-L.html\n",
      "/Users/Artem/Documents/CS 205/NHANES_search_results/NHANES Search Variables-M.html\n",
      "/Users/Artem/Documents/CS 205/NHANES_search_results/NHANES Search Variables-N.html\n",
      "/Users/Artem/Documents/CS 205/NHANES_search_results/NHANES Search Variables-O.html\n",
      "/Users/Artem/Documents/CS 205/NHANES_search_results/NHANES Search Variables-P.html\n",
      "/Users/Artem/Documents/CS 205/NHANES_search_results/NHANES Search Variables-Q.html\n",
      "/Users/Artem/Documents/CS 205/NHANES_search_results/NHANES Search Variables-R.html\n",
      "/Users/Artem/Documents/CS 205/NHANES_search_results/NHANES Search Variables-S.html\n",
      "/Users/Artem/Documents/CS 205/NHANES_search_results/NHANES Search Variables-T.html\n",
      "/Users/Artem/Documents/CS 205/NHANES_search_results/NHANES Search Variables-U.html\n",
      "/Users/Artem/Documents/CS 205/NHANES_search_results/NHANES Search Variables-V.html\n",
      "/Users/Artem/Documents/CS 205/NHANES_search_results/NHANES Search Variables-W.html\n",
      "/Users/Artem/Documents/CS 205/NHANES_search_results/NHANES Search Variables-X.html\n",
      "/Users/Artem/Documents/CS 205/NHANES_search_results/NHANES Search Variables-Y.html\n",
      "/Users/Artem/Documents/CS 205/NHANES_search_results/NHANES Search Variables-Z.html\n",
      "/Users/Artem/Documents/CS 205/NHANES_search_results/NHANES Search Variables-1.html\n",
      "(2381, 3)\n"
     ]
    },
    {
     "data": {
      "text/html": [
       "<div>\n",
       "<style scoped>\n",
       "    .dataframe tbody tr th:only-of-type {\n",
       "        vertical-align: middle;\n",
       "    }\n",
       "\n",
       "    .dataframe tbody tr th {\n",
       "        vertical-align: top;\n",
       "    }\n",
       "\n",
       "    .dataframe thead th {\n",
       "        text-align: right;\n",
       "    }\n",
       "</style>\n",
       "<table border=\"1\" class=\"dataframe\">\n",
       "  <thead>\n",
       "    <tr style=\"text-align: right;\">\n",
       "      <th></th>\n",
       "      <th>feature</th>\n",
       "      <th>file</th>\n",
       "      <th>folder</th>\n",
       "    </tr>\n",
       "  </thead>\n",
       "  <tbody>\n",
       "    <tr>\n",
       "      <th>0</th>\n",
       "      <td>ACD011A</td>\n",
       "      <td>ACQ_I</td>\n",
       "      <td>Questionnaire</td>\n",
       "    </tr>\n",
       "    <tr>\n",
       "      <th>1</th>\n",
       "      <td>ACD011B</td>\n",
       "      <td>ACQ_I</td>\n",
       "      <td>Questionnaire</td>\n",
       "    </tr>\n",
       "    <tr>\n",
       "      <th>2</th>\n",
       "      <td>ACD011C</td>\n",
       "      <td>ACQ_I</td>\n",
       "      <td>Questionnaire</td>\n",
       "    </tr>\n",
       "    <tr>\n",
       "      <th>3</th>\n",
       "      <td>ACD040</td>\n",
       "      <td>ACQ_I</td>\n",
       "      <td>Questionnaire</td>\n",
       "    </tr>\n",
       "    <tr>\n",
       "      <th>4</th>\n",
       "      <td>ACD110</td>\n",
       "      <td>ACQ_I</td>\n",
       "      <td>Questionnaire</td>\n",
       "    </tr>\n",
       "  </tbody>\n",
       "</table>\n",
       "</div>"
      ],
      "text/plain": [
       "   feature   file         folder\n",
       "0  ACD011A  ACQ_I  Questionnaire\n",
       "1  ACD011B  ACQ_I  Questionnaire\n",
       "2  ACD011C  ACQ_I  Questionnaire\n",
       "3   ACD040  ACQ_I  Questionnaire\n",
       "4   ACD110  ACQ_I  Questionnaire"
      ]
     },
     "execution_count": 20,
     "metadata": {},
     "output_type": "execute_result"
    }
   ],
   "source": [
    "all_features = pd.DataFrame(columns = ('feature', 'file', 'folder'))\n",
    "\n",
    "for letter in string.ascii_uppercase+'1':\n",
    "    url = \"/Users/Artem/Documents/CS 205/NHANES_search_results/NHANES Search Variables-{}.html\".format(letter)\n",
    "    print(url)\n",
    "    temp_df = parse_file(url)\n",
    "    all_features = all_features.merge(temp_df, how = 'outer')\n",
    "    \n",
    "print(all_features.shape)\n",
    "all_features.head()"
   ]
  },
  {
   "cell_type": "code",
   "execution_count": 23,
   "metadata": {
    "collapsed": false
   },
   "outputs": [
    {
     "name": "stdout",
     "output_type": "stream",
     "text": [
      "(2280, 3)\n"
     ]
    }
   ],
   "source": [
    "all_features = all_features[all_features.feature != 'SEQN']\n",
    "print(all_features.shape)\n",
    "all_features.to_csv(\"/Users/Artem/Documents/GitHub/CancerPrediction/all_features.csv\", index = False)"
   ]
  },
  {
   "cell_type": "code",
   "execution_count": null,
   "metadata": {
    "collapsed": true
   },
   "outputs": [],
   "source": [
    "original_df.to_pickle(\"./dummy.pkl\")"
   ]
  },
  {
   "cell_type": "code",
   "execution_count": null,
   "metadata": {
    "collapsed": true
   },
   "outputs": [],
   "source": []
  }
 ],
 "metadata": {
  "anaconda-cloud": {},
  "kernelspec": {
   "display_name": "Python [conda env:py37]",
   "language": "python",
   "name": "conda-env-py37-py"
  },
  "language_info": {
   "codemirror_mode": {
    "name": "ipython",
    "version": 3
   },
   "file_extension": ".py",
   "mimetype": "text/x-python",
   "name": "python",
   "nbconvert_exporter": "python",
   "pygments_lexer": "ipython3",
   "version": "3.6.8"
  }
 },
 "nbformat": 4,
 "nbformat_minor": 0
}
