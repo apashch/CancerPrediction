{
 "cells": [
  {
   "cell_type": "code",
   "execution_count": 2,
   "metadata": {
    "collapsed": true
   },
   "outputs": [],
   "source": [
    "import pandas as pd\n",
    "import string"
   ]
  },
  {
   "cell_type": "code",
   "execution_count": 13,
   "metadata": {
    "collapsed": false
   },
   "outputs": [
    {
     "data": {
      "text/html": [
       "<div>\n",
       "<style scoped>\n",
       "    .dataframe tbody tr th:only-of-type {\n",
       "        vertical-align: middle;\n",
       "    }\n",
       "\n",
       "    .dataframe tbody tr th {\n",
       "        vertical-align: top;\n",
       "    }\n",
       "\n",
       "    .dataframe thead th {\n",
       "        text-align: right;\n",
       "    }\n",
       "</style>\n",
       "<table border=\"1\" class=\"dataframe\">\n",
       "  <thead>\n",
       "    <tr style=\"text-align: right;\">\n",
       "      <th></th>\n",
       "      <th>Variable Name</th>\n",
       "      <th>Variable Description</th>\n",
       "      <th>Data File Name</th>\n",
       "      <th>Data File Description</th>\n",
       "      <th>Begin Year</th>\n",
       "      <th>EndYear</th>\n",
       "      <th>Component</th>\n",
       "      <th>Use Constraints</th>\n",
       "    </tr>\n",
       "  </thead>\n",
       "  <tbody>\n",
       "    <tr>\n",
       "      <th>0</th>\n",
       "      <td>AIALANG</td>\n",
       "      <td>Language of the MEC ACASI Interview Instrument</td>\n",
       "      <td>DEMO_D</td>\n",
       "      <td>Demographic Variables &amp; Sample Weights</td>\n",
       "      <td>2005</td>\n",
       "      <td>2006</td>\n",
       "      <td>Demographics</td>\n",
       "      <td>None</td>\n",
       "    </tr>\n",
       "    <tr>\n",
       "      <th>1</th>\n",
       "      <td>DMDBORN</td>\n",
       "      <td>In what country {were you/was SP} born?</td>\n",
       "      <td>DEMO_D</td>\n",
       "      <td>Demographic Variables &amp; Sample Weights</td>\n",
       "      <td>2005</td>\n",
       "      <td>2006</td>\n",
       "      <td>Demographics</td>\n",
       "      <td>None</td>\n",
       "    </tr>\n",
       "    <tr>\n",
       "      <th>2</th>\n",
       "      <td>DMDCITZN</td>\n",
       "      <td>{Are you/Is SP} a citizen of the United States...</td>\n",
       "      <td>DEMO_D</td>\n",
       "      <td>Demographic Variables &amp; Sample Weights</td>\n",
       "      <td>2005</td>\n",
       "      <td>2006</td>\n",
       "      <td>Demographics</td>\n",
       "      <td>None</td>\n",
       "    </tr>\n",
       "    <tr>\n",
       "      <th>3</th>\n",
       "      <td>DMDEDUC2</td>\n",
       "      <td>(SP Interview Version) What is the highest gra...</td>\n",
       "      <td>DEMO_D</td>\n",
       "      <td>Demographic Variables &amp; Sample Weights</td>\n",
       "      <td>2005</td>\n",
       "      <td>2006</td>\n",
       "      <td>Demographics</td>\n",
       "      <td>None</td>\n",
       "    </tr>\n",
       "    <tr>\n",
       "      <th>4</th>\n",
       "      <td>DMDEDUC3</td>\n",
       "      <td>(SP Interview Version) What is the highest gra...</td>\n",
       "      <td>DEMO_D</td>\n",
       "      <td>Demographic Variables &amp; Sample Weights</td>\n",
       "      <td>2005</td>\n",
       "      <td>2006</td>\n",
       "      <td>Demographics</td>\n",
       "      <td>None</td>\n",
       "    </tr>\n",
       "  </tbody>\n",
       "</table>\n",
       "</div>"
      ],
      "text/plain": [
       "  Variable Name                               Variable Description  \\\n",
       "0       AIALANG     Language of the MEC ACASI Interview Instrument   \n",
       "1       DMDBORN            In what country {were you/was SP} born?   \n",
       "2      DMDCITZN  {Are you/Is SP} a citizen of the United States...   \n",
       "3      DMDEDUC2  (SP Interview Version) What is the highest gra...   \n",
       "4      DMDEDUC3  (SP Interview Version) What is the highest gra...   \n",
       "\n",
       "  Data File Name                   Data File Description  Begin Year  EndYear  \\\n",
       "0         DEMO_D  Demographic Variables & Sample Weights        2005     2006   \n",
       "1         DEMO_D  Demographic Variables & Sample Weights        2005     2006   \n",
       "2         DEMO_D  Demographic Variables & Sample Weights        2005     2006   \n",
       "3         DEMO_D  Demographic Variables & Sample Weights        2005     2006   \n",
       "4         DEMO_D  Demographic Variables & Sample Weights        2005     2006   \n",
       "\n",
       "      Component Use Constraints  \n",
       "0  Demographics            None  \n",
       "1  Demographics            None  \n",
       "2  Demographics            None  \n",
       "3  Demographics            None  \n",
       "4  Demographics            None  "
      ]
     },
     "execution_count": 13,
     "metadata": {},
     "output_type": "execute_result"
    }
   ],
   "source": [
    "url = \"/Users/Artem/Documents/CS 205/NHAHES_VAR_LIST/NHANES Demographics Variable List.html\"\n",
    "df_raw = pd.read_html(url, attrs = {'id' : 'GridView1'})[0]\n",
    "df_raw.head()"
   ]
  },
  {
   "cell_type": "code",
   "execution_count": 15,
   "metadata": {
    "collapsed": false
   },
   "outputs": [
    {
     "data": {
      "text/html": [
       "<div>\n",
       "<style scoped>\n",
       "    .dataframe tbody tr th:only-of-type {\n",
       "        vertical-align: middle;\n",
       "    }\n",
       "\n",
       "    .dataframe tbody tr th {\n",
       "        vertical-align: top;\n",
       "    }\n",
       "\n",
       "    .dataframe thead th {\n",
       "        text-align: right;\n",
       "    }\n",
       "</style>\n",
       "<table border=\"1\" class=\"dataframe\">\n",
       "  <thead>\n",
       "    <tr style=\"text-align: right;\">\n",
       "      <th></th>\n",
       "      <th>feature</th>\n",
       "      <th>file</th>\n",
       "      <th>folder</th>\n",
       "    </tr>\n",
       "  </thead>\n",
       "  <tbody>\n",
       "    <tr>\n",
       "      <th>0</th>\n",
       "      <td>AIALANG</td>\n",
       "      <td>DEMO_D</td>\n",
       "      <td>Demographics</td>\n",
       "    </tr>\n",
       "    <tr>\n",
       "      <th>1</th>\n",
       "      <td>DMDBORN</td>\n",
       "      <td>DEMO_D</td>\n",
       "      <td>Demographics</td>\n",
       "    </tr>\n",
       "    <tr>\n",
       "      <th>2</th>\n",
       "      <td>DMDCITZN</td>\n",
       "      <td>DEMO_D</td>\n",
       "      <td>Demographics</td>\n",
       "    </tr>\n",
       "    <tr>\n",
       "      <th>3</th>\n",
       "      <td>DMDEDUC2</td>\n",
       "      <td>DEMO_D</td>\n",
       "      <td>Demographics</td>\n",
       "    </tr>\n",
       "    <tr>\n",
       "      <th>4</th>\n",
       "      <td>DMDEDUC3</td>\n",
       "      <td>DEMO_D</td>\n",
       "      <td>Demographics</td>\n",
       "    </tr>\n",
       "  </tbody>\n",
       "</table>\n",
       "</div>"
      ],
      "text/plain": [
       "    feature    file        folder\n",
       "0   AIALANG  DEMO_D  Demographics\n",
       "1   DMDBORN  DEMO_D  Demographics\n",
       "2  DMDCITZN  DEMO_D  Demographics\n",
       "3  DMDEDUC2  DEMO_D  Demographics\n",
       "4  DMDEDUC3  DEMO_D  Demographics"
      ]
     },
     "execution_count": 15,
     "metadata": {},
     "output_type": "execute_result"
    }
   ],
   "source": [
    "#exclude restricted vars\n",
    "df_raw = df_raw[df_raw[\"Use Constraints\"] == 'None']\n",
    "\n",
    "#drop extra columns\n",
    "drop_columns = ['Variable Description', 'Data File Description', 'Begin Year', 'EndYear', 'Use Constraints']\n",
    "df_useful = df_raw.drop(drop_columns, axis = 1)\n",
    "df_useful.columns = [\"feature\", \"file\", 'folder']\n",
    "df_useful.head()"
   ]
  },
  {
   "cell_type": "code",
   "execution_count": 23,
   "metadata": {
    "collapsed": false
   },
   "outputs": [
    {
     "data": {
      "text/plain": [
       "510"
      ]
     },
     "execution_count": 23,
     "metadata": {},
     "output_type": "execute_result"
    }
   ],
   "source": [
    "#remove year-specific file names\n",
    "df_useful.file = df_useful.file.apply(func = lambda x: x[:-2] if x[-2] == '_' else x)\n",
    "df_useful.drop_duplicates(inplace = True)\n",
    "df_useful.size"
   ]
  },
  {
   "cell_type": "code",
   "execution_count": 26,
   "metadata": {
    "collapsed": true
   },
   "outputs": [],
   "source": [
    "#rewrite everythig we did above as a function\n",
    "def parse_file(url):\n",
    "    df_raw = pd.read_html(url, attrs = {'id' : 'GridView1'})[0]\n",
    "    df_raw = df_raw[df_raw[\"Use Constraints\"] == 'None']\n",
    "    drop_columns = ['Variable Description', 'Data File Description', 'Begin Year', 'EndYear', 'Use Constraints']\n",
    "    df_useful = df_raw.drop(drop_columns, axis = 1)\n",
    "    df_useful.columns = [\"feature\", \"file\", 'folder']\n",
    "    df_useful.file = df_useful.file.apply(func = lambda x: x[:-2] if x[-2] == '_' else x)\n",
    "    df_useful.drop_duplicates(inplace = True)\n",
    "    return df_useful\n"
   ]
  },
  {
   "cell_type": "code",
   "execution_count": 28,
   "metadata": {
    "collapsed": false
   },
   "outputs": [
    {
     "name": "stdout",
     "output_type": "stream",
     "text": [
      "Parsing /Users/Artem/Documents/CS 205/NHAHES_VAR_LIST/NHANES Demographics Variable List.html\n",
      "Parsing /Users/Artem/Documents/CS 205/NHAHES_VAR_LIST/NHANES Dietary Variable List.html\n",
      "Parsing /Users/Artem/Documents/CS 205/NHAHES_VAR_LIST/NHANES Examination Variable List.html\n",
      "Parsing /Users/Artem/Documents/CS 205/NHAHES_VAR_LIST/NHANES Laboratory Variable List.html\n",
      "Parsing /Users/Artem/Documents/CS 205/NHAHES_VAR_LIST/NHANES Questionnaire Variable List.html\n",
      "(17356, 3)\n"
     ]
    },
    {
     "data": {
      "text/html": [
       "<div>\n",
       "<style scoped>\n",
       "    .dataframe tbody tr th:only-of-type {\n",
       "        vertical-align: middle;\n",
       "    }\n",
       "\n",
       "    .dataframe tbody tr th {\n",
       "        vertical-align: top;\n",
       "    }\n",
       "\n",
       "    .dataframe thead th {\n",
       "        text-align: right;\n",
       "    }\n",
       "</style>\n",
       "<table border=\"1\" class=\"dataframe\">\n",
       "  <thead>\n",
       "    <tr style=\"text-align: right;\">\n",
       "      <th></th>\n",
       "      <th>feature</th>\n",
       "      <th>file</th>\n",
       "      <th>folder</th>\n",
       "    </tr>\n",
       "  </thead>\n",
       "  <tbody>\n",
       "    <tr>\n",
       "      <th>0</th>\n",
       "      <td>AIALANG</td>\n",
       "      <td>DEMO</td>\n",
       "      <td>Demographics</td>\n",
       "    </tr>\n",
       "    <tr>\n",
       "      <th>1</th>\n",
       "      <td>DMDBORN</td>\n",
       "      <td>DEMO</td>\n",
       "      <td>Demographics</td>\n",
       "    </tr>\n",
       "    <tr>\n",
       "      <th>2</th>\n",
       "      <td>DMDCITZN</td>\n",
       "      <td>DEMO</td>\n",
       "      <td>Demographics</td>\n",
       "    </tr>\n",
       "    <tr>\n",
       "      <th>3</th>\n",
       "      <td>DMDEDUC2</td>\n",
       "      <td>DEMO</td>\n",
       "      <td>Demographics</td>\n",
       "    </tr>\n",
       "    <tr>\n",
       "      <th>4</th>\n",
       "      <td>DMDEDUC3</td>\n",
       "      <td>DEMO</td>\n",
       "      <td>Demographics</td>\n",
       "    </tr>\n",
       "  </tbody>\n",
       "</table>\n",
       "</div>"
      ],
      "text/plain": [
       "    feature  file        folder\n",
       "0   AIALANG  DEMO  Demographics\n",
       "1   DMDBORN  DEMO  Demographics\n",
       "2  DMDCITZN  DEMO  Demographics\n",
       "3  DMDEDUC2  DEMO  Demographics\n",
       "4  DMDEDUC3  DEMO  Demographics"
      ]
     },
     "execution_count": 28,
     "metadata": {},
     "output_type": "execute_result"
    }
   ],
   "source": [
    "all_features = pd.DataFrame(columns = ('feature', 'file', 'folder'))\n",
    "\n",
    "for fname in [\"Demographics\", \"Dietary\", \"Examination\", \"Laboratory\", \"Questionnaire\"]:\n",
    "    url = \"/Users/Artem/Documents/CS 205/NHAHES_VAR_LIST/NHANES {} Variable List.html\".format(fname)\n",
    "    print(\"Parsing\", url)\n",
    "    temp_df = parse_file(url)\n",
    "    all_features = all_features.merge(temp_df, how = 'outer')\n",
    "    \n",
    "print(all_features.shape)\n",
    "all_features.head()"
   ]
  },
  {
   "cell_type": "code",
   "execution_count": 29,
   "metadata": {
    "collapsed": false
   },
   "outputs": [
    {
     "name": "stdout",
     "output_type": "stream",
     "text": [
      "(16937, 3)\n"
     ]
    }
   ],
   "source": [
    "all_features = all_features[all_features.feature != 'SEQN']\n",
    "print(all_features.shape)\n",
    "all_features.to_csv(\"/Users/Artem/Documents/GitHub/CancerPrediction/all_features.csv\", index = False)"
   ]
  },
  {
   "cell_type": "code",
   "execution_count": null,
   "metadata": {
    "collapsed": true
   },
   "outputs": [],
   "source": [
    "original_df.to_pickle(\"./dummy.pkl\")"
   ]
  },
  {
   "cell_type": "code",
   "execution_count": null,
   "metadata": {
    "collapsed": true
   },
   "outputs": [],
   "source": []
  }
 ],
 "metadata": {
  "anaconda-cloud": {},
  "kernelspec": {
   "display_name": "Python [conda env:py37]",
   "language": "python",
   "name": "conda-env-py37-py"
  },
  "language_info": {
   "codemirror_mode": {
    "name": "ipython",
    "version": 3
   },
   "file_extension": ".py",
   "mimetype": "text/x-python",
   "name": "python",
   "nbconvert_exporter": "python",
   "pygments_lexer": "ipython3",
   "version": "3.6.8"
  }
 },
 "nbformat": 4,
 "nbformat_minor": 0
}
