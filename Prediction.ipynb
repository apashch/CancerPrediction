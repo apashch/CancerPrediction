{
 "cells": [
  {
   "cell_type": "code",
   "execution_count": 136,
   "metadata": {
    "collapsed": false
   },
   "outputs": [
    {
     "name": "stdout",
     "output_type": "stream",
     "text": [
      "The autoreload extension is already loaded. To reload it, use:\n",
      "  %reload_ext autoreload\n"
     ]
    }
   ],
   "source": [
    "%load_ext autoreload\n",
    "%autoreload 2\n",
    "\n",
    "import matplotlib\n",
    "%matplotlib inline\n",
    "import pandas as pd\n",
    "import seaborn as sns\n",
    "import numpy as np"
   ]
  },
  {
   "cell_type": "code",
   "execution_count": 181,
   "metadata": {
    "collapsed": false
   },
   "outputs": [
    {
     "name": "stdout",
     "output_type": "stream",
     "text": [
      "(49509, 57) (49509, 1)\n",
      "(4578, 1)\n"
     ]
    }
   ],
   "source": [
    "features = pd.read_pickle(\"sel+demo_features2.pkl\")\n",
    "target = pd.read_pickle(\"target.pkl\")\n",
    "print(features.shape, target.shape)\n",
    "print(target[target['MCQ220'] == 1].shape)"
   ]
  },
  {
   "cell_type": "code",
   "execution_count": 173,
   "metadata": {
    "collapsed": true
   },
   "outputs": [],
   "source": [
    "features = pd.read_pickle(\"selected_features.pkl\")"
   ]
  },
  {
   "cell_type": "code",
   "execution_count": 182,
   "metadata": {
    "collapsed": true
   },
   "outputs": [],
   "source": [
    "dataset_features = features.values\n",
    "dataset_targets=target.values.flatten()"
   ]
  },
  {
   "cell_type": "code",
   "execution_count": 183,
   "metadata": {
    "collapsed": true
   },
   "outputs": [],
   "source": [
    "# train/test separation\n",
    "perm = np.random.permutation(dataset_targets.shape[0])\n",
    "dataset_features = dataset_features[perm]\n",
    "dataset_targets = dataset_targets[perm]\n",
    "\n",
    "def get_batch(n_size, phase):\n",
    "    # select indices\n",
    "    n_samples = dataset_features.shape[0]\n",
    "    n_classes = int(dataset_targets.max() + 1)\n",
    "    if phase == 'test':\n",
    "        inds_sel = np.arange(0, int(n_samples*0.15), 1)\n",
    "    elif phase == 'validation':\n",
    "        n_samples = dataset_features.shape[0]\n",
    "        inds_sel = np.arange(int(n_samples*0.15), int(n_samples*0.30), 1)\n",
    "    elif phase == 'train':\n",
    "        n_samples = dataset_features.shape[0]\n",
    "        inds_sel = np.arange(int(n_samples*0.30), n_samples, 1)\n",
    "    else:\n",
    "        raise NotImplementedError\n",
    "    inds_sel = np.random.permutation(inds_sel)\n",
    "    batch_inds = []\n",
    "    for cl in range(n_classes):\n",
    "        inds_cl = inds_sel[dataset_targets[inds_sel] == cl]\n",
    "        batch_inds.extend(inds_cl[:n_size//n_classes])\n",
    "    batch_inds = np.random.permutation(batch_inds)\n",
    "    \n",
    "    return dataset_features[batch_inds], dataset_targets[batch_inds]"
   ]
  },
  {
   "cell_type": "markdown",
   "metadata": {},
   "source": [
    "### First attempt"
   ]
  },
  {
   "cell_type": "code",
   "execution_count": 177,
   "metadata": {
    "collapsed": false
   },
   "outputs": [
    {
     "name": "stdout",
     "output_type": "stream",
     "text": [
      "accu_tst_RFC 0.49333333333333335\n",
      "accu_tst_SVC 0.49333333333333335\n",
      "accu_tst_LR 0.49333333333333335\n"
     ]
    }
   ],
   "source": [
    "from sklearn.ensemble import RandomForestClassifier\n",
    "from sklearn.svm import SVC\n",
    "from sklearn.linear_model import LogisticRegression\n",
    "\n",
    "features_trn, targets_trn = get_batch(n_size=8000, phase='train')\n",
    "features_tst, targets_tst = get_batch(n_size=900, phase='test')\n",
    "\n",
    "clf = RandomForestClassifier(n_estimators=750)\n",
    "clf.fit(features_trn, targets_trn)\n",
    "preds_tst_RFC1 = clf.predict(features_tst)\n",
    "accu = np.mean(preds_tst==targets_tst)\n",
    "print('accu_tst_RFC', accu)\n",
    "\n",
    "clf = SVC(gamma='auto')\n",
    "clf.fit(features_trn, targets_trn)\n",
    "preds_tst_SVC1 = clf.predict(features_tst)\n",
    "accu = np.mean(preds_tst==targets_tst)\n",
    "print('accu_tst_SVC', accu)\n",
    "\n",
    "clf = LogisticRegression(solver='lbfgs', max_iter=2000)\n",
    "clf.fit(features_trn, targets_trn)\n",
    "preds_tst_LR1 = clf.predict(features_tst)\n",
    "accu = np.mean(preds_tst==targets_tst)\n",
    "print('accu_tst_LR', accu)\n",
    "\n"
   ]
  },
  {
   "cell_type": "code",
   "execution_count": 178,
   "metadata": {
    "collapsed": false
   },
   "outputs": [
    {
     "name": "stdout",
     "output_type": "stream",
     "text": [
      "              precision    recall  f1-score   support\n",
      "\n",
      "         0.0       0.59      0.77      0.67       450\n",
      "         1.0       0.67      0.46      0.55       450\n",
      "\n",
      "    accuracy                           0.62       900\n",
      "   macro avg       0.63      0.62      0.61       900\n",
      "weighted avg       0.63      0.62      0.61       900\n",
      "\n",
      "              precision    recall  f1-score   support\n",
      "\n",
      "         0.0       0.57      0.76      0.65       450\n",
      "         1.0       0.63      0.42      0.50       450\n",
      "\n",
      "    accuracy                           0.59       900\n",
      "   macro avg       0.60      0.59      0.58       900\n",
      "weighted avg       0.60      0.59      0.58       900\n",
      "\n",
      "              precision    recall  f1-score   support\n",
      "\n",
      "         0.0       0.58      0.70      0.63       450\n",
      "         1.0       0.62      0.49      0.55       450\n",
      "\n",
      "    accuracy                           0.59       900\n",
      "   macro avg       0.60      0.59      0.59       900\n",
      "weighted avg       0.60      0.59      0.59       900\n",
      "\n"
     ]
    }
   ],
   "source": [
    "print(classification_report(targets_tst, preds_tst_RFC1.flatten()))\n",
    "print(classification_report(targets_tst, preds_tst_SVC1.flatten()))\n",
    "print(classification_report(targets_tst, preds_tst_LR1.flatten()))"
   ]
  },
  {
   "cell_type": "code",
   "execution_count": 152,
   "metadata": {
    "collapsed": false
   },
   "outputs": [],
   "source": [
    "features_trn, targets_trn = get_batch(n_size=15000, phase='train')\n",
    "features_tst, targets_tst = get_batch(n_size=3000, phase='test')\n",
    "\n",
    "acc = []\n",
    "ns = []\n",
    "\n",
    "for n in [10, 25, 50, 100, 250, 500, 750, 1000, 1250, 1500]:\n",
    "    accs = []\n",
    "    for m in range(10):\n",
    "        clf = RandomForestClassifier(n_estimators=n)\n",
    "        clf.fit(features_trn, targets_trn)\n",
    "        preds_tst = clf.predict(features_tst)\n",
    "        accu = np.mean(preds_tst==targets_tst)\n",
    "        accs.append(accu)\n",
    "    ns.append(n)\n",
    "    acc.append(np.mean(accs))"
   ]
  },
  {
   "cell_type": "code",
   "execution_count": 153,
   "metadata": {
    "collapsed": false
   },
   "outputs": [
    {
     "data": {
      "text/plain": [
       "<matplotlib.axes._subplots.AxesSubplot at 0x167685358>"
      ]
     },
     "execution_count": 153,
     "metadata": {},
     "output_type": "execute_result"
    },
    {
     "data": {
      "image/png": "[encoded data removed]",
      "text/plain": [
       "<Figure size 432x288 with 1 Axes>"
      ]
     },
     "metadata": {
      "needs_background": "light"
     },
     "output_type": "display_data"
    }
   ],
   "source": [
    "sns.lineplot(ns, acc)"
   ]
  },
  {
   "cell_type": "markdown",
   "metadata": {},
   "source": [
    "### Now trying on larger sets"
   ]
  },
  {
   "cell_type": "code",
   "execution_count": 111,
   "metadata": {
    "collapsed": false
   },
   "outputs": [
    {
     "name": "stdout",
     "output_type": "stream",
     "text": [
      "accu_tst_RFC 0.7065514103730665\n",
      "accu_tst_SVC 0.6901728844404004\n",
      "accu_tst_LR 0.697452229299363\n"
     ]
    }
   ],
   "source": [
    "features_trn, targets_trn = get_batch(n_size=15000, phase='train')\n",
    "features_tst, targets_tst = get_batch(n_size=3000, phase='test')\n",
    "\n",
    "clf = RandomForestClassifier(n_estimators=500)\n",
    "clf.fit(features_trn, targets_trn)\n",
    "preds_tst_RCL = clf.predict(features_tst)\n",
    "accu = np.mean(preds_tst_RCL==targets_tst)\n",
    "print('accu_tst_RFC', accu)\n",
    "\n",
    "clf = SVC(gamma='auto')\n",
    "clf.fit(features_trn, targets_trn)\n",
    "preds_tst_SVC = clf.predict(features_tst)\n",
    "accu = np.mean(preds_tst_SVC==targets_tst)\n",
    "print('accu_tst_SVC', accu)\n",
    "\n",
    "clf = LogisticRegression(solver='lbfgs', max_iter=1000)\n",
    "clf.fit(features_trn, targets_trn)\n",
    "preds_tst_LR = clf.predict(features_tst)\n",
    "accu = np.mean(preds_tst_LR==targets_tst)\n",
    "print('accu_tst_LR', accu)"
   ]
  },
  {
   "cell_type": "code",
   "execution_count": 156,
   "metadata": {
    "collapsed": false
   },
   "outputs": [
    {
     "ename": "ValueError",
     "evalue": "Found input variables with inconsistent numbers of samples: [900, 400]",
     "output_type": "error",
     "traceback": [
      "\u001b[0;31m---------------------------------------------------------------------------\u001b[0m",
      "\u001b[0;31mValueError\u001b[0m                                Traceback (most recent call last)",
      "\u001b[0;32m<ipython-input-156-d76bbddc27f0>\u001b[0m in \u001b[0;36m<module>\u001b[0;34m\u001b[0m\n\u001b[1;32m      1\u001b[0m \u001b[0;32mfrom\u001b[0m \u001b[0msklearn\u001b[0m\u001b[0;34m.\u001b[0m\u001b[0mmetrics\u001b[0m \u001b[0;32mimport\u001b[0m \u001b[0mclassification_report\u001b[0m\u001b[0;34m\u001b[0m\u001b[0;34m\u001b[0m\u001b[0m\n\u001b[1;32m      2\u001b[0m \u001b[0;34m\u001b[0m\u001b[0m\n\u001b[0;32m----> 3\u001b[0;31m \u001b[0mprint\u001b[0m\u001b[0;34m(\u001b[0m\u001b[0mclassification_report\u001b[0m\u001b[0;34m(\u001b[0m\u001b[0mtargets_tst\u001b[0m\u001b[0;34m,\u001b[0m \u001b[0mpreds_tst_RCL\u001b[0m\u001b[0;34m.\u001b[0m\u001b[0mflatten\u001b[0m\u001b[0;34m(\u001b[0m\u001b[0;34m)\u001b[0m\u001b[0;34m)\u001b[0m\u001b[0;34m)\u001b[0m\u001b[0;34m\u001b[0m\u001b[0;34m\u001b[0m\u001b[0m\n\u001b[0m\u001b[1;32m      4\u001b[0m \u001b[0mprint\u001b[0m\u001b[0;34m(\u001b[0m\u001b[0mclassification_report\u001b[0m\u001b[0;34m(\u001b[0m\u001b[0mtargets_tst\u001b[0m\u001b[0;34m,\u001b[0m \u001b[0mpreds_tst_SVC\u001b[0m\u001b[0;34m.\u001b[0m\u001b[0mflatten\u001b[0m\u001b[0;34m(\u001b[0m\u001b[0;34m)\u001b[0m\u001b[0;34m)\u001b[0m\u001b[0;34m)\u001b[0m\u001b[0;34m\u001b[0m\u001b[0;34m\u001b[0m\u001b[0m\n\u001b[1;32m      5\u001b[0m \u001b[0mprint\u001b[0m\u001b[0;34m(\u001b[0m\u001b[0mclassification_report\u001b[0m\u001b[0;34m(\u001b[0m\u001b[0mtargets_tst\u001b[0m\u001b[0;34m,\u001b[0m \u001b[0mpreds_tst_LR\u001b[0m\u001b[0;34m.\u001b[0m\u001b[0mflatten\u001b[0m\u001b[0;34m(\u001b[0m\u001b[0;34m)\u001b[0m\u001b[0;34m)\u001b[0m\u001b[0;34m)\u001b[0m\u001b[0;34m\u001b[0m\u001b[0;34m\u001b[0m\u001b[0m\n",
      "\u001b[0;32m~/anaconda/envs/py3tensor/lib/python3.7/site-packages/sklearn/metrics/classification.py\u001b[0m in \u001b[0;36mclassification_report\u001b[0;34m(y_true, y_pred, labels, target_names, sample_weight, digits, output_dict)\u001b[0m\n\u001b[1;32m   1850\u001b[0m     \"\"\"\n\u001b[1;32m   1851\u001b[0m \u001b[0;34m\u001b[0m\u001b[0m\n\u001b[0;32m-> 1852\u001b[0;31m     \u001b[0my_type\u001b[0m\u001b[0;34m,\u001b[0m \u001b[0my_true\u001b[0m\u001b[0;34m,\u001b[0m \u001b[0my_pred\u001b[0m \u001b[0;34m=\u001b[0m \u001b[0m_check_targets\u001b[0m\u001b[0;34m(\u001b[0m\u001b[0my_true\u001b[0m\u001b[0;34m,\u001b[0m \u001b[0my_pred\u001b[0m\u001b[0;34m)\u001b[0m\u001b[0;34m\u001b[0m\u001b[0;34m\u001b[0m\u001b[0m\n\u001b[0m\u001b[1;32m   1853\u001b[0m \u001b[0;34m\u001b[0m\u001b[0m\n\u001b[1;32m   1854\u001b[0m     \u001b[0mlabels_given\u001b[0m \u001b[0;34m=\u001b[0m \u001b[0;32mTrue\u001b[0m\u001b[0;34m\u001b[0m\u001b[0;34m\u001b[0m\u001b[0m\n",
      "\u001b[0;32m~/anaconda/envs/py3tensor/lib/python3.7/site-packages/sklearn/metrics/classification.py\u001b[0m in \u001b[0;36m_check_targets\u001b[0;34m(y_true, y_pred)\u001b[0m\n\u001b[1;32m     69\u001b[0m     \u001b[0my_pred\u001b[0m \u001b[0;34m:\u001b[0m \u001b[0marray\u001b[0m \u001b[0;32mor\u001b[0m \u001b[0mindicator\u001b[0m \u001b[0mmatrix\u001b[0m\u001b[0;34m\u001b[0m\u001b[0;34m\u001b[0m\u001b[0m\n\u001b[1;32m     70\u001b[0m     \"\"\"\n\u001b[0;32m---> 71\u001b[0;31m     \u001b[0mcheck_consistent_length\u001b[0m\u001b[0;34m(\u001b[0m\u001b[0my_true\u001b[0m\u001b[0;34m,\u001b[0m \u001b[0my_pred\u001b[0m\u001b[0;34m)\u001b[0m\u001b[0;34m\u001b[0m\u001b[0;34m\u001b[0m\u001b[0m\n\u001b[0m\u001b[1;32m     72\u001b[0m     \u001b[0mtype_true\u001b[0m \u001b[0;34m=\u001b[0m \u001b[0mtype_of_target\u001b[0m\u001b[0;34m(\u001b[0m\u001b[0my_true\u001b[0m\u001b[0;34m)\u001b[0m\u001b[0;34m\u001b[0m\u001b[0;34m\u001b[0m\u001b[0m\n\u001b[1;32m     73\u001b[0m     \u001b[0mtype_pred\u001b[0m \u001b[0;34m=\u001b[0m \u001b[0mtype_of_target\u001b[0m\u001b[0;34m(\u001b[0m\u001b[0my_pred\u001b[0m\u001b[0;34m)\u001b[0m\u001b[0;34m\u001b[0m\u001b[0;34m\u001b[0m\u001b[0m\n",
      "\u001b[0;32m~/anaconda/envs/py3tensor/lib/python3.7/site-packages/sklearn/utils/validation.py\u001b[0m in \u001b[0;36mcheck_consistent_length\u001b[0;34m(*arrays)\u001b[0m\n\u001b[1;32m    203\u001b[0m     \u001b[0;32mif\u001b[0m \u001b[0mlen\u001b[0m\u001b[0;34m(\u001b[0m\u001b[0muniques\u001b[0m\u001b[0;34m)\u001b[0m \u001b[0;34m>\u001b[0m \u001b[0;36m1\u001b[0m\u001b[0;34m:\u001b[0m\u001b[0;34m\u001b[0m\u001b[0;34m\u001b[0m\u001b[0m\n\u001b[1;32m    204\u001b[0m         raise ValueError(\"Found input variables with inconsistent numbers of\"\n\u001b[0;32m--> 205\u001b[0;31m                          \" samples: %r\" % [int(l) for l in lengths])\n\u001b[0m\u001b[1;32m    206\u001b[0m \u001b[0;34m\u001b[0m\u001b[0m\n\u001b[1;32m    207\u001b[0m \u001b[0;34m\u001b[0m\u001b[0m\n",
      "\u001b[0;31mValueError\u001b[0m: Found input variables with inconsistent numbers of samples: [900, 400]"
     ]
    }
   ],
   "source": []
  },
  {
   "cell_type": "markdown",
   "metadata": {},
   "source": [
    "### Try a neural network"
   ]
  },
  {
   "cell_type": "code",
   "execution_count": 106,
   "metadata": {
    "collapsed": false
   },
   "outputs": [],
   "source": [
    "from keras import Sequential\n",
    "from keras.layers import Dense\n",
    "\n",
    "## using original size of train/test\n",
    "features_trn, targets_trn = get_batch(n_size=15000, phase='train')\n",
    "features_tst, targets_tst = get_batch(n_size=3000, phase='test')"
   ]
  },
  {
   "cell_type": "code",
   "execution_count": 112,
   "metadata": {
    "collapsed": false
   },
   "outputs": [
    {
     "name": "stdout",
     "output_type": "stream",
     "text": [
      "Epoch 1/25\n",
      "10691/10691 [==============================] - 4s 377us/step - loss: 0.5907 - acc: 0.7012\n",
      "Epoch 2/25\n",
      "10691/10691 [==============================] - 4s 346us/step - loss: 0.5768 - acc: 0.7064\n",
      "Epoch 3/25\n",
      "10691/10691 [==============================] - 4s 395us/step - loss: 0.5751 - acc: 0.7114\n",
      "Epoch 4/25\n",
      "10691/10691 [==============================] - 4s 383us/step - loss: 0.5740 - acc: 0.7129\n",
      "Epoch 5/25\n",
      "10691/10691 [==============================] - 4s 387us/step - loss: 0.5728 - acc: 0.7127\n",
      "Epoch 6/25\n",
      "10691/10691 [==============================] - 4s 385us/step - loss: 0.5728 - acc: 0.7083\n",
      "Epoch 7/25\n",
      "10691/10691 [==============================] - 4s 391us/step - loss: 0.5718 - acc: 0.7148\n",
      "Epoch 8/25\n",
      "10691/10691 [==============================] - 4s 390us/step - loss: 0.5728 - acc: 0.7121\n",
      "Epoch 9/25\n",
      "10691/10691 [==============================] - 4s 389us/step - loss: 0.5704 - acc: 0.7140\n",
      "Epoch 10/25\n",
      "10691/10691 [==============================] - 4s 391us/step - loss: 0.5705 - acc: 0.7158\n",
      "Epoch 11/25\n",
      "10691/10691 [==============================] - 4s 388us/step - loss: 0.5692 - acc: 0.7164\n",
      "Epoch 12/25\n",
      "10691/10691 [==============================] - 4s 392us/step - loss: 0.5675 - acc: 0.7145\n",
      "Epoch 13/25\n",
      "10691/10691 [==============================] - 4s 399us/step - loss: 0.5677 - acc: 0.7162\n",
      "Epoch 14/25\n",
      "10691/10691 [==============================] - 5s 448us/step - loss: 0.5665 - acc: 0.7166\n",
      "Epoch 15/25\n",
      "10691/10691 [==============================] - 4s 405us/step - loss: 0.5663 - acc: 0.7163\n",
      "Epoch 16/25\n",
      "10691/10691 [==============================] - 4s 417us/step - loss: 0.5653 - acc: 0.7182\n",
      "Epoch 17/25\n",
      "10691/10691 [==============================] - 5s 432us/step - loss: 0.5638 - acc: 0.7200\n",
      "Epoch 18/25\n",
      "10691/10691 [==============================] - 5s 422us/step - loss: 0.5631 - acc: 0.7188\n",
      "Epoch 19/25\n",
      "10691/10691 [==============================] - 4s 407us/step - loss: 0.5624 - acc: 0.7200\n",
      "Epoch 20/25\n",
      "10691/10691 [==============================] - 4s 410us/step - loss: 0.5626 - acc: 0.7215\n",
      "Epoch 21/25\n",
      "10691/10691 [==============================] - 5s 451us/step - loss: 0.5598 - acc: 0.7201\n",
      "Epoch 22/25\n",
      "10691/10691 [==============================] - 5s 514us/step - loss: 0.5589 - acc: 0.7185\n",
      "Epoch 23/25\n",
      "10691/10691 [==============================] - 5s 425us/step - loss: 0.5591 - acc: 0.7211\n",
      "Epoch 24/25\n",
      "10691/10691 [==============================] - 5s 453us/step - loss: 0.5583 - acc: 0.7216\n",
      "Epoch 25/25\n",
      "10691/10691 [==============================] - 5s 453us/step - loss: 0.5577 - acc: 0.7243\n"
     ]
    }
   ],
   "source": [
    "classifier = Sequential()\n",
    "#First Hidden Layer\n",
    "classifier.add(Dense(16, activation='relu', kernel_initializer='random_normal', input_dim=features_trn.shape[1]))\n",
    "#Second  Hidden Layer\n",
    "classifier.add(Dense(8, activation='relu', kernel_initializer='random_normal'))\n",
    "#Output Layer\n",
    "classifier.add(Dense(1, activation='sigmoid', kernel_initializer='random_normal'))\n",
    "\n",
    "#Compiling the neural network\n",
    "classifier.compile(optimizer ='adam',loss='binary_crossentropy', metrics =['accuracy'])\n",
    "\n",
    "#Fitting the data to the training dataset\n",
    "classifier.fit(features_trn,targets_trn, batch_size=5, epochs=25)\n",
    "\n",
    "#predict on the test set\n",
    "preds_tst=classifier.predict(features_tst)\n",
    "preds_tst_bin =(preds_tst>0.5)"
   ]
  },
  {
   "cell_type": "code",
   "execution_count": 113,
   "metadata": {
    "collapsed": false
   },
   "outputs": [
    {
     "name": "stdout",
     "output_type": "stream",
     "text": [
      "accu_tst_NN 0.6933575978161965\n"
     ]
    }
   ],
   "source": [
    "#measure accuracy\n",
    "accu = np.mean(preds_tst_bin.flatten()==targets_tst)\n",
    "print('accu_tst_NN', accu)"
   ]
  },
  {
   "cell_type": "code",
   "execution_count": 70,
   "metadata": {
    "collapsed": false
   },
   "outputs": [
    {
     "data": {
      "text/plain": [
       "array([[0.08127615],\n",
       "       [0.52853453],\n",
       "       [0.1401828 ],\n",
       "       ...,\n",
       "       [0.15197423],\n",
       "       [0.22212602],\n",
       "       [0.0986653 ]], dtype=float32)"
      ]
     },
     "execution_count": 70,
     "metadata": {},
     "output_type": "execute_result"
    }
   ],
   "source": [
    "preds_tst"
   ]
  },
  {
   "cell_type": "code",
   "execution_count": 71,
   "metadata": {
    "collapsed": false
   },
   "outputs": [
    {
     "data": {
      "text/plain": [
       "array([0., 1., 0., ..., 0., 1., 0.])"
      ]
     },
     "execution_count": 71,
     "metadata": {},
     "output_type": "execute_result"
    }
   ],
   "source": [
    "targets_tst"
   ]
  },
  {
   "cell_type": "code",
   "execution_count": 72,
   "metadata": {
    "collapsed": false
   },
   "outputs": [
    {
     "data": {
      "text/html": [
       "<div>\n",
       "<style scoped>\n",
       "    .dataframe tbody tr th:only-of-type {\n",
       "        vertical-align: middle;\n",
       "    }\n",
       "\n",
       "    .dataframe tbody tr th {\n",
       "        vertical-align: top;\n",
       "    }\n",
       "\n",
       "    .dataframe thead th {\n",
       "        text-align: right;\n",
       "    }\n",
       "</style>\n",
       "<table border=\"1\" class=\"dataframe\">\n",
       "  <thead>\n",
       "    <tr style=\"text-align: right;\">\n",
       "      <th></th>\n",
       "      <th>MCQ220</th>\n",
       "    </tr>\n",
       "  </thead>\n",
       "  <tbody>\n",
       "    <tr>\n",
       "      <th>DMDHRAGE</th>\n",
       "      <td>0.256813</td>\n",
       "    </tr>\n",
       "    <tr>\n",
       "      <th>DMQMILIT</th>\n",
       "      <td>0.114839</td>\n",
       "    </tr>\n",
       "    <tr>\n",
       "      <th>RIDAGEYR</th>\n",
       "      <td>0.284032</td>\n",
       "    </tr>\n",
       "    <tr>\n",
       "      <th>DR1HELPD</th>\n",
       "      <td>0.000660</td>\n",
       "    </tr>\n",
       "    <tr>\n",
       "      <th>DR1TKCAL</th>\n",
       "      <td>-0.054950</td>\n",
       "    </tr>\n",
       "    <tr>\n",
       "      <th>DR1TM161</th>\n",
       "      <td>-0.044415</td>\n",
       "    </tr>\n",
       "    <tr>\n",
       "      <th>DR1TS100</th>\n",
       "      <td>-0.002619</td>\n",
       "    </tr>\n",
       "    <tr>\n",
       "      <th>DR1TS140</th>\n",
       "      <td>-0.017791</td>\n",
       "    </tr>\n",
       "    <tr>\n",
       "      <th>DR1TSUGR</th>\n",
       "      <td>-0.026063</td>\n",
       "    </tr>\n",
       "    <tr>\n",
       "      <th>DR2HELPD</th>\n",
       "      <td>-0.034258</td>\n",
       "    </tr>\n",
       "    <tr>\n",
       "      <th>DR2TNIAC</th>\n",
       "      <td>-0.021135</td>\n",
       "    </tr>\n",
       "    <tr>\n",
       "      <th>DR2TPROT</th>\n",
       "      <td>-0.027595</td>\n",
       "    </tr>\n",
       "    <tr>\n",
       "      <th>BPAEN2</th>\n",
       "      <td>-0.006041</td>\n",
       "    </tr>\n",
       "    <tr>\n",
       "      <th>BPXPTY</th>\n",
       "      <td>-0.011231</td>\n",
       "    </tr>\n",
       "    <tr>\n",
       "      <th>BPXSY2</th>\n",
       "      <td>0.080311</td>\n",
       "    </tr>\n",
       "    <tr>\n",
       "      <th>BPXSY1</th>\n",
       "      <td>0.091065</td>\n",
       "    </tr>\n",
       "    <tr>\n",
       "      <th>BPXDI2</th>\n",
       "      <td>-0.045389</td>\n",
       "    </tr>\n",
       "    <tr>\n",
       "      <th>BPXDI1</th>\n",
       "      <td>-0.043896</td>\n",
       "    </tr>\n",
       "    <tr>\n",
       "      <th>BMXARMC</th>\n",
       "      <td>-0.032102</td>\n",
       "    </tr>\n",
       "    <tr>\n",
       "      <th>BMXARML</th>\n",
       "      <td>0.035755</td>\n",
       "    </tr>\n",
       "    <tr>\n",
       "      <th>BMXHT</th>\n",
       "      <td>-0.009169</td>\n",
       "    </tr>\n",
       "    <tr>\n",
       "      <th>LBXHBS</th>\n",
       "      <td>0.053890</td>\n",
       "    </tr>\n",
       "    <tr>\n",
       "      <th>LBDLYMNO</th>\n",
       "      <td>-0.010401</td>\n",
       "    </tr>\n",
       "    <tr>\n",
       "      <th>LBDMONO</th>\n",
       "      <td>0.035257</td>\n",
       "    </tr>\n",
       "    <tr>\n",
       "      <th>LBDNENO</th>\n",
       "      <td>0.008936</td>\n",
       "    </tr>\n",
       "    <tr>\n",
       "      <th>LBXLYPCT</th>\n",
       "      <td>-0.071737</td>\n",
       "    </tr>\n",
       "    <tr>\n",
       "      <th>LBXMCHSI</th>\n",
       "      <td>0.057869</td>\n",
       "    </tr>\n",
       "    <tr>\n",
       "      <th>LBXMOPCT</th>\n",
       "      <td>0.048892</td>\n",
       "    </tr>\n",
       "    <tr>\n",
       "      <th>LBXMPSI</th>\n",
       "      <td>-0.023202</td>\n",
       "    </tr>\n",
       "    <tr>\n",
       "      <th>LBXNEPCT</th>\n",
       "      <td>0.049573</td>\n",
       "    </tr>\n",
       "    <tr>\n",
       "      <th>LBXRBCSI</th>\n",
       "      <td>-0.073004</td>\n",
       "    </tr>\n",
       "    <tr>\n",
       "      <th>LBXRDW</th>\n",
       "      <td>0.045616</td>\n",
       "    </tr>\n",
       "    <tr>\n",
       "      <th>LBDSCASI</th>\n",
       "      <td>0.007949</td>\n",
       "    </tr>\n",
       "    <tr>\n",
       "      <th>LBDSTPSI</th>\n",
       "      <td>-0.078028</td>\n",
       "    </tr>\n",
       "    <tr>\n",
       "      <th>LBXSCA</th>\n",
       "      <td>0.007949</td>\n",
       "    </tr>\n",
       "    <tr>\n",
       "      <th>LBXSNASI</th>\n",
       "      <td>0.026687</td>\n",
       "    </tr>\n",
       "    <tr>\n",
       "      <th>LBXSTP</th>\n",
       "      <td>-0.078028</td>\n",
       "    </tr>\n",
       "    <tr>\n",
       "      <th>BPQ040A</th>\n",
       "      <td>0.011749</td>\n",
       "    </tr>\n",
       "    <tr>\n",
       "      <th>HSD010</th>\n",
       "      <td>0.043003</td>\n",
       "    </tr>\n",
       "    <tr>\n",
       "      <th>KIQ022</th>\n",
       "      <td>0.055921</td>\n",
       "    </tr>\n",
       "    <tr>\n",
       "      <th>MCQ010</th>\n",
       "      <td>0.019034</td>\n",
       "    </tr>\n",
       "    <tr>\n",
       "      <th>MCQ160N</th>\n",
       "      <td>0.062735</td>\n",
       "    </tr>\n",
       "    <tr>\n",
       "      <th>PAQ620</th>\n",
       "      <td>0.002483</td>\n",
       "    </tr>\n",
       "    <tr>\n",
       "      <th>PFQ059</th>\n",
       "      <td>0.030564</td>\n",
       "    </tr>\n",
       "    <tr>\n",
       "      <th>HUQ090</th>\n",
       "      <td>0.015954</td>\n",
       "    </tr>\n",
       "    <tr>\n",
       "      <th>DR1_WATER</th>\n",
       "      <td>-0.023030</td>\n",
       "    </tr>\n",
       "    <tr>\n",
       "      <th>SXQ</th>\n",
       "      <td>-0.025809</td>\n",
       "    </tr>\n",
       "    <tr>\n",
       "      <th>RIAGENDR</th>\n",
       "      <td>-0.004893</td>\n",
       "    </tr>\n",
       "    <tr>\n",
       "      <th>DMDEDUC2</th>\n",
       "      <td>0.027246</td>\n",
       "    </tr>\n",
       "    <tr>\n",
       "      <th>BMXBMI</th>\n",
       "      <td>-0.009033</td>\n",
       "    </tr>\n",
       "    <tr>\n",
       "      <th>BMXWT</th>\n",
       "      <td>-0.012683</td>\n",
       "    </tr>\n",
       "    <tr>\n",
       "      <th>BMXHT</th>\n",
       "      <td>-0.009169</td>\n",
       "    </tr>\n",
       "    <tr>\n",
       "      <th>RIDRETH1#1.0</th>\n",
       "      <td>-0.090596</td>\n",
       "    </tr>\n",
       "    <tr>\n",
       "      <th>RIDRETH1#2.0</th>\n",
       "      <td>-0.036652</td>\n",
       "    </tr>\n",
       "    <tr>\n",
       "      <th>RIDRETH1#3.0</th>\n",
       "      <td>0.163301</td>\n",
       "    </tr>\n",
       "    <tr>\n",
       "      <th>RIDRETH1#4.0</th>\n",
       "      <td>-0.055620</td>\n",
       "    </tr>\n",
       "    <tr>\n",
       "      <th>RIDRETH1#5.0</th>\n",
       "      <td>-0.051186</td>\n",
       "    </tr>\n",
       "    <tr>\n",
       "      <th>MCQ220</th>\n",
       "      <td>1.000000</td>\n",
       "    </tr>\n",
       "  </tbody>\n",
       "</table>\n",
       "</div>"
      ],
      "text/plain": [
       "                MCQ220\n",
       "DMDHRAGE      0.256813\n",
       "DMQMILIT      0.114839\n",
       "RIDAGEYR      0.284032\n",
       "DR1HELPD      0.000660\n",
       "DR1TKCAL     -0.054950\n",
       "DR1TM161     -0.044415\n",
       "DR1TS100     -0.002619\n",
       "DR1TS140     -0.017791\n",
       "DR1TSUGR     -0.026063\n",
       "DR2HELPD     -0.034258\n",
       "DR2TNIAC     -0.021135\n",
       "DR2TPROT     -0.027595\n",
       "BPAEN2       -0.006041\n",
       "BPXPTY       -0.011231\n",
       "BPXSY2        0.080311\n",
       "BPXSY1        0.091065\n",
       "BPXDI2       -0.045389\n",
       "BPXDI1       -0.043896\n",
       "BMXARMC      -0.032102\n",
       "BMXARML       0.035755\n",
       "BMXHT        -0.009169\n",
       "LBXHBS        0.053890\n",
       "LBDLYMNO     -0.010401\n",
       "LBDMONO       0.035257\n",
       "LBDNENO       0.008936\n",
       "LBXLYPCT     -0.071737\n",
       "LBXMCHSI      0.057869\n",
       "LBXMOPCT      0.048892\n",
       "LBXMPSI      -0.023202\n",
       "LBXNEPCT      0.049573\n",
       "LBXRBCSI     -0.073004\n",
       "LBXRDW        0.045616\n",
       "LBDSCASI      0.007949\n",
       "LBDSTPSI     -0.078028\n",
       "LBXSCA        0.007949\n",
       "LBXSNASI      0.026687\n",
       "LBXSTP       -0.078028\n",
       "BPQ040A       0.011749\n",
       "HSD010        0.043003\n",
       "KIQ022        0.055921\n",
       "MCQ010        0.019034\n",
       "MCQ160N       0.062735\n",
       "PAQ620        0.002483\n",
       "PFQ059        0.030564\n",
       "HUQ090        0.015954\n",
       "DR1_WATER    -0.023030\n",
       "SXQ          -0.025809\n",
       "RIAGENDR     -0.004893\n",
       "DMDEDUC2      0.027246\n",
       "BMXBMI       -0.009033\n",
       "BMXWT        -0.012683\n",
       "BMXHT        -0.009169\n",
       "RIDRETH1#1.0 -0.090596\n",
       "RIDRETH1#2.0 -0.036652\n",
       "RIDRETH1#3.0  0.163301\n",
       "RIDRETH1#4.0 -0.055620\n",
       "RIDRETH1#5.0 -0.051186\n",
       "MCQ220        1.000000"
      ]
     },
     "execution_count": 72,
     "metadata": {},
     "output_type": "execute_result"
    },
    {
     "data": {
      "image/png": "[encoded data removed]",
      "text/plain": [
       "<Figure size 432x288 with 2 Axes>"
      ]
     },
     "metadata": {
      "needs_background": "light"
     },
     "output_type": "display_data"
    }
   ],
   "source": [
    "import datawig\n",
    "\n",
    "df = pd.concat([features, target], axis = 1)\n",
    "df = df.reset_index().drop(columns = [\"SEQN\"])\n",
    "\n",
    "df_train, df_test = datawig.utils.random_split(df, split_ratios=[0.8, 0.2])\n",
    "\n",
    "sns.heatmap(df.corr()[['MCQ220']])\n",
    "df.corr()[['MCQ220']]"
   ]
  },
  {
   "cell_type": "code",
   "execution_count": 75,
   "metadata": {
    "collapsed": false
   },
   "outputs": [
    {
     "name": "stderr",
     "output_type": "stream",
     "text": [
      "/Users/Artem/anaconda/envs/py3tensor/lib/python3.7/site-packages/pandas/core/frame.py:4034: SettingWithCopyWarning: \n",
      "A value is trying to be set on a copy of a slice from a DataFrame\n",
      "\n",
      "See the caveats in the documentation: http://pandas.pydata.org/pandas-docs/stable/indexing.html#indexing-view-versus-copy\n",
      "  downcast=downcast, **kwargs)\n",
      "/Users/Artem/anaconda/envs/py3tensor/lib/python3.7/site-packages/pandas/core/generic.py:6130: SettingWithCopyWarning: \n",
      "A value is trying to be set on a copy of a slice from a DataFrame\n",
      "\n",
      "See the caveats in the documentation: http://pandas.pydata.org/pandas-docs/stable/indexing.html#indexing-view-versus-copy\n",
      "  self._update_inplace(new_data)\n",
      "/Users/Artem/anaconda/envs/py3tensor/lib/python3.7/site-packages/pandas/core/frame.py:4034: SettingWithCopyWarning: \n",
      "A value is trying to be set on a copy of a slice from a DataFrame\n",
      "\n",
      "See the caveats in the documentation: http://pandas.pydata.org/pandas-docs/stable/indexing.html#indexing-view-versus-copy\n",
      "  downcast=downcast, **kwargs)\n",
      "/Users/Artem/anaconda/envs/py3tensor/lib/python3.7/site-packages/pandas/core/generic.py:6130: SettingWithCopyWarning: \n",
      "A value is trying to be set on a copy of a slice from a DataFrame\n",
      "\n",
      "See the caveats in the documentation: http://pandas.pydata.org/pandas-docs/stable/indexing.html#indexing-view-versus-copy\n",
      "  self._update_inplace(new_data)\n",
      "2019-06-04 23:30:11,393 [INFO]  \n",
      "========== start: fit model\n",
      "2019-06-04 23:30:11,489 [WARNING]  Already bound, ignoring bind()\n",
      "2019-06-04 23:30:13,352 [INFO]  Epoch[0] Batch [0-1114]\tSpeed: 11222.70 samples/sec\tcross-entropy=15.123111\tMCQ220-accuracy=0.000000\n",
      "2019-06-04 23:30:15,014 [INFO]  Epoch[0] Train-cross-entropy=14.764242\n",
      "2019-06-04 23:30:15,016 [INFO]  Epoch[0] Train-MCQ220-accuracy=0.000000\n",
      "2019-06-04 23:30:15,018 [INFO]  Epoch[0] Time cost=3.523\n",
      "2019-06-04 23:30:15,027 [INFO]  Saved checkpoint to \"imputer_model/model-0000.params\"\n",
      "2019-06-04 23:30:15,220 [INFO]  Epoch[0] Validation-cross-entropy=13.262163\n",
      "2019-06-04 23:30:15,222 [INFO]  Epoch[0] Validation-MCQ220-accuracy=0.000000\n",
      "2019-06-04 23:30:16,795 [INFO]  Epoch[1] Batch [0-1114]\tSpeed: 11366.01 samples/sec\tcross-entropy=14.883634\tMCQ220-accuracy=0.000000\n",
      "2019-06-04 23:30:18,393 [INFO]  Epoch[1] Train-cross-entropy=14.587253\n",
      "2019-06-04 23:30:18,394 [INFO]  Epoch[1] Train-MCQ220-accuracy=0.000000\n",
      "2019-06-04 23:30:18,397 [INFO]  Epoch[1] Time cost=3.172\n",
      "2019-06-04 23:30:18,403 [INFO]  Saved checkpoint to \"imputer_model/model-0001.params\"\n",
      "2019-06-04 23:30:18,588 [INFO]  Epoch[1] Validation-cross-entropy=13.237462\n",
      "2019-06-04 23:30:18,590 [INFO]  Epoch[1] Validation-MCQ220-accuracy=0.000000\n",
      "2019-06-04 23:30:20,155 [INFO]  Epoch[2] Batch [0-1114]\tSpeed: 11424.05 samples/sec\tcross-entropy=14.829786\tMCQ220-accuracy=0.000000\n",
      "2019-06-04 23:30:21,715 [INFO]  Epoch[2] Train-cross-entropy=14.549457\n",
      "2019-06-04 23:30:21,717 [INFO]  Epoch[2] Train-MCQ220-accuracy=0.000000\n",
      "2019-06-04 23:30:21,719 [INFO]  Epoch[2] Time cost=3.126\n",
      "2019-06-04 23:30:21,726 [INFO]  Saved checkpoint to \"imputer_model/model-0002.params\"\n",
      "2019-06-04 23:30:22,116 [INFO]  Epoch[2] Validation-cross-entropy=13.232068\n",
      "2019-06-04 23:30:22,118 [INFO]  Epoch[2] Validation-MCQ220-accuracy=0.000000\n",
      "2019-06-04 23:30:23,790 [INFO]  Epoch[3] Batch [0-1114]\tSpeed: 10691.16 samples/sec\tcross-entropy=14.821427\tMCQ220-accuracy=0.000000\n",
      "2019-06-04 23:30:25,359 [INFO]  Epoch[3] Train-cross-entropy=14.537139\n",
      "2019-06-04 23:30:25,365 [INFO]  Epoch[3] Train-MCQ220-accuracy=0.000000\n",
      "2019-06-04 23:30:25,367 [INFO]  Epoch[3] Time cost=3.247\n",
      "2019-06-04 23:30:25,373 [INFO]  Saved checkpoint to \"imputer_model/model-0003.params\"\n",
      "2019-06-04 23:30:25,764 [INFO]  Epoch[3] Validation-cross-entropy=13.239094\n",
      "2019-06-04 23:30:25,771 [INFO]  Epoch[3] Validation-MCQ220-accuracy=0.000000\n",
      "2019-06-04 23:30:27,398 [INFO]  Epoch[4] Batch [0-1114]\tSpeed: 11060.57 samples/sec\tcross-entropy=14.818217\tMCQ220-accuracy=0.000000\n",
      "2019-06-04 23:30:28,951 [INFO]  Epoch[4] Train-cross-entropy=14.532673\n",
      "2019-06-04 23:30:28,953 [INFO]  Epoch[4] Train-MCQ220-accuracy=0.000000\n",
      "2019-06-04 23:30:28,956 [INFO]  Epoch[4] Time cost=3.178\n",
      "2019-06-04 23:30:28,963 [INFO]  Saved checkpoint to \"imputer_model/model-0004.params\"\n",
      "2019-06-04 23:30:29,131 [INFO]  Epoch[4] Validation-cross-entropy=13.237566\n",
      "2019-06-04 23:30:29,133 [INFO]  Epoch[4] Validation-MCQ220-accuracy=0.000000\n",
      "2019-06-04 23:30:30,998 [INFO]  Epoch[5] Batch [0-1114]\tSpeed: 9576.97 samples/sec\tcross-entropy=14.808965\tMCQ220-accuracy=0.000000\n",
      "2019-06-04 23:30:32,771 [INFO]  Epoch[5] Train-cross-entropy=14.523697\n",
      "2019-06-04 23:30:32,774 [INFO]  Epoch[5] Train-MCQ220-accuracy=0.000000\n",
      "2019-06-04 23:30:32,777 [INFO]  Epoch[5] Time cost=3.642\n",
      "2019-06-04 23:30:32,784 [INFO]  Saved checkpoint to \"imputer_model/model-0005.params\"\n",
      "2019-06-04 23:30:32,986 [INFO]  Epoch[5] Validation-cross-entropy=13.250727\n",
      "2019-06-04 23:30:32,988 [INFO]  Epoch[5] Validation-MCQ220-accuracy=0.000000\n",
      "2019-06-04 23:30:34,722 [INFO]  Epoch[6] Batch [0-1114]\tSpeed: 10309.79 samples/sec\tcross-entropy=14.800377\tMCQ220-accuracy=0.000000\n",
      "2019-06-04 23:30:36,429 [INFO]  Epoch[6] Train-cross-entropy=14.517866\n",
      "2019-06-04 23:30:36,432 [INFO]  Epoch[6] Train-MCQ220-accuracy=0.000000\n",
      "2019-06-04 23:30:36,435 [INFO]  Epoch[6] Time cost=3.444\n",
      "2019-06-04 23:30:36,442 [INFO]  Saved checkpoint to \"imputer_model/model-0006.params\"\n",
      "2019-06-04 23:30:36,791 [INFO]  No improvement detected for 5 epochs compared to 13.237461724348607 last error obtained: 13.249628851730977, stopping here\n",
      "2019-06-04 23:30:36,793 [INFO]  \n",
      "========== done (25.400957822799683 s) fit model\n",
      "/Users/Artem/anaconda/envs/py3tensor/lib/python3.7/site-packages/datawig/calibration.py:92: RuntimeWarning: invalid value encountered in log\n",
      "  return np.log(probas)\n",
      "/Users/Artem/anaconda/envs/py3tensor/lib/python3.7/site-packages/datawig/calibration.py:59: RuntimeWarning: invalid value encountered in greater_equal\n",
      "  bin_mask = (top_probas >= bin_lower) & (top_probas < bin_upper)\n",
      "/Users/Artem/anaconda/envs/py3tensor/lib/python3.7/site-packages/datawig/calibration.py:59: RuntimeWarning: invalid value encountered in less\n",
      "  bin_mask = (top_probas >= bin_lower) & (top_probas < bin_upper)\n",
      "/Users/Artem/anaconda/envs/py3tensor/lib/python3.7/site-packages/pandas/core/frame.py:4034: SettingWithCopyWarning: \n",
      "A value is trying to be set on a copy of a slice from a DataFrame\n",
      "\n",
      "See the caveats in the documentation: http://pandas.pydata.org/pandas-docs/stable/indexing.html#indexing-view-versus-copy\n",
      "  downcast=downcast, **kwargs)\n",
      "/Users/Artem/anaconda/envs/py3tensor/lib/python3.7/site-packages/pandas/core/generic.py:6130: SettingWithCopyWarning: \n",
      "A value is trying to be set on a copy of a slice from a DataFrame\n",
      "\n",
      "See the caveats in the documentation: http://pandas.pydata.org/pandas-docs/stable/indexing.html#indexing-view-versus-copy\n",
      "  self._update_inplace(new_data)\n"
     ]
    }
   ],
   "source": [
    "#Initialize a SimpleImputer model\n",
    "imputer = datawig.SimpleImputer(\n",
    "    #input_columns=list(features.columns), # column(s) containing information about the column we want to impute\n",
    "    input_columns = ['RIDAGEYR', 'DMQMILIT', 'DMDHRAGE'],\n",
    "    output_column='MCQ220', # the column we'd like to impute values for\n",
    "    output_path = 'imputer_model' # stores model data and metrics\n",
    "    )\n",
    "\n",
    "#Fit an imputer model on the train data\n",
    "imputer.fit(train_df=df_train)\n",
    "\n",
    "#Impute missing values and return original dataframe with predictions\n",
    "#predictions, metrics = imputer.transform_and_compute_metrics(df_test)\n",
    "#metrics\n",
    "\n",
    "predictions = imputer.predict(df_test)"
   ]
  },
  {
   "cell_type": "code",
   "execution_count": 90,
   "metadata": {
    "collapsed": false
   },
   "outputs": [
    {
     "ename": "ValueError",
     "evalue": "Columns must be same length as key",
     "output_type": "error",
     "traceback": [
      "\u001b[0;31m---------------------------------------------------------------------------\u001b[0m",
      "\u001b[0;31mValueError\u001b[0m                                Traceback (most recent call last)",
      "\u001b[0;32m<ipython-input-90-9f7160ca0353>\u001b[0m in \u001b[0;36m<module>\u001b[0;34m\u001b[0m\n\u001b[1;32m    123\u001b[0m )\n\u001b[1;32m    124\u001b[0m \u001b[0;34m\u001b[0m\u001b[0m\n\u001b[0;32m--> 125\u001b[0;31m \u001b[0mimputer\u001b[0m\u001b[0;34m.\u001b[0m\u001b[0mfit\u001b[0m\u001b[0;34m(\u001b[0m\u001b[0mtrain_df\u001b[0m\u001b[0;34m=\u001b[0m\u001b[0mdf_train\u001b[0m\u001b[0;34m)\u001b[0m\u001b[0;34m\u001b[0m\u001b[0;34m\u001b[0m\u001b[0m\n\u001b[0m\u001b[1;32m    126\u001b[0m \u001b[0mpredictions\u001b[0m \u001b[0;34m=\u001b[0m \u001b[0mimputer\u001b[0m\u001b[0;34m.\u001b[0m\u001b[0mpredict\u001b[0m\u001b[0;34m(\u001b[0m\u001b[0mdf_test\u001b[0m\u001b[0;34m)\u001b[0m\u001b[0;34m\u001b[0m\u001b[0;34m\u001b[0m\u001b[0m\n",
      "\u001b[0;32m~/anaconda/envs/py3tensor/lib/python3.7/site-packages/datawig/imputer.py\u001b[0m in \u001b[0;36mfit\u001b[0;34m(self, train_df, test_df, ctx, learning_rate, num_epochs, patience, test_split, weight_decay, batch_size, final_fc_hidden_units, calibrate)\u001b[0m\n\u001b[1;32m    253\u001b[0m             \u001b[0mtrain_df\u001b[0m\u001b[0;34m,\u001b[0m \u001b[0mtest_df\u001b[0m \u001b[0;34m=\u001b[0m \u001b[0mrandom_split\u001b[0m\u001b[0;34m(\u001b[0m\u001b[0mtrain_df\u001b[0m\u001b[0;34m,\u001b[0m \u001b[0;34m[\u001b[0m\u001b[0;36m1.0\u001b[0m \u001b[0;34m-\u001b[0m \u001b[0mtest_split\u001b[0m\u001b[0;34m,\u001b[0m \u001b[0mtest_split\u001b[0m\u001b[0;34m]\u001b[0m\u001b[0;34m)\u001b[0m\u001b[0;34m\u001b[0m\u001b[0;34m\u001b[0m\u001b[0m\n\u001b[1;32m    254\u001b[0m \u001b[0;34m\u001b[0m\u001b[0m\n\u001b[0;32m--> 255\u001b[0;31m         \u001b[0miter_train\u001b[0m\u001b[0;34m,\u001b[0m \u001b[0miter_test\u001b[0m \u001b[0;34m=\u001b[0m \u001b[0mself\u001b[0m\u001b[0;34m.\u001b[0m\u001b[0m__build_iterators\u001b[0m\u001b[0;34m(\u001b[0m\u001b[0mtrain_df\u001b[0m\u001b[0;34m,\u001b[0m \u001b[0mtest_df\u001b[0m\u001b[0;34m,\u001b[0m \u001b[0mtest_split\u001b[0m\u001b[0;34m)\u001b[0m\u001b[0;34m\u001b[0m\u001b[0;34m\u001b[0m\u001b[0m\n\u001b[0m\u001b[1;32m    256\u001b[0m \u001b[0;34m\u001b[0m\u001b[0m\n\u001b[1;32m    257\u001b[0m         \u001b[0mself\u001b[0m\u001b[0;34m.\u001b[0m\u001b[0m__check_data\u001b[0m\u001b[0;34m(\u001b[0m\u001b[0mtest_df\u001b[0m\u001b[0;34m)\u001b[0m\u001b[0;34m\u001b[0m\u001b[0;34m\u001b[0m\u001b[0m\n",
      "\u001b[0;32m~/anaconda/envs/py3tensor/lib/python3.7/site-packages/datawig/imputer.py\u001b[0m in \u001b[0;36m__build_iterators\u001b[0;34m(self, train_df, test_df, test_split)\u001b[0m\n\u001b[1;32m    577\u001b[0m                         encoder_type, \", \".join(encoder.input_columns), len(train_df), encoder.__dict__))\n\u001b[1;32m    578\u001b[0m \u001b[0;34m\u001b[0m\u001b[0m\n\u001b[0;32m--> 579\u001b[0;31m                 \u001b[0mencoder\u001b[0m\u001b[0;34m.\u001b[0m\u001b[0mfit\u001b[0m\u001b[0;34m(\u001b[0m\u001b[0mtrain_df\u001b[0m\u001b[0;34m)\u001b[0m\u001b[0;34m\u001b[0m\u001b[0;34m\u001b[0m\u001b[0m\n\u001b[0m\u001b[1;32m    580\u001b[0m \u001b[0;34m\u001b[0m\u001b[0m\n\u001b[1;32m    581\u001b[0m         \u001b[0mlogger\u001b[0m\u001b[0;34m.\u001b[0m\u001b[0mdebug\u001b[0m\u001b[0;34m(\u001b[0m\u001b[0;34m\"Building Train Iterator with {} elements\"\u001b[0m\u001b[0;34m.\u001b[0m\u001b[0mformat\u001b[0m\u001b[0;34m(\u001b[0m\u001b[0mlen\u001b[0m\u001b[0;34m(\u001b[0m\u001b[0mtrain_df\u001b[0m\u001b[0;34m)\u001b[0m\u001b[0;34m)\u001b[0m\u001b[0;34m)\u001b[0m\u001b[0;34m\u001b[0m\u001b[0;34m\u001b[0m\u001b[0m\n",
      "\u001b[0;32m~/anaconda/envs/py3tensor/lib/python3.7/site-packages/datawig/column_encoders.py\u001b[0m in \u001b[0;36mfit\u001b[0;34m(self, data_frame)\u001b[0m\n\u001b[1;32m    685\u001b[0m \u001b[0;34m\u001b[0m\u001b[0m\n\u001b[1;32m    686\u001b[0m         \u001b[0mmean\u001b[0m \u001b[0;34m=\u001b[0m \u001b[0mdata_frame\u001b[0m\u001b[0;34m[\u001b[0m\u001b[0mself\u001b[0m\u001b[0;34m.\u001b[0m\u001b[0minput_columns\u001b[0m\u001b[0;34m]\u001b[0m\u001b[0;34m.\u001b[0m\u001b[0mmean\u001b[0m\u001b[0;34m(\u001b[0m\u001b[0;34m)\u001b[0m\u001b[0;34m\u001b[0m\u001b[0;34m\u001b[0m\u001b[0m\n\u001b[0;32m--> 687\u001b[0;31m         \u001b[0mdata_frame\u001b[0m\u001b[0;34m[\u001b[0m\u001b[0mself\u001b[0m\u001b[0;34m.\u001b[0m\u001b[0minput_columns\u001b[0m\u001b[0;34m]\u001b[0m \u001b[0;34m=\u001b[0m \u001b[0mdata_frame\u001b[0m\u001b[0;34m[\u001b[0m\u001b[0mself\u001b[0m\u001b[0;34m.\u001b[0m\u001b[0minput_columns\u001b[0m\u001b[0;34m]\u001b[0m\u001b[0;34m.\u001b[0m\u001b[0mfillna\u001b[0m\u001b[0;34m(\u001b[0m\u001b[0mmean\u001b[0m\u001b[0;34m)\u001b[0m\u001b[0;34m\u001b[0m\u001b[0;34m\u001b[0m\u001b[0m\n\u001b[0m\u001b[1;32m    688\u001b[0m         \u001b[0mself\u001b[0m\u001b[0;34m.\u001b[0m\u001b[0mscaler\u001b[0m \u001b[0;34m=\u001b[0m \u001b[0mStandardScaler\u001b[0m\u001b[0;34m(\u001b[0m\u001b[0;34m)\u001b[0m\u001b[0;34m.\u001b[0m\u001b[0mfit\u001b[0m\u001b[0;34m(\u001b[0m\u001b[0mdata_frame\u001b[0m\u001b[0;34m[\u001b[0m\u001b[0mself\u001b[0m\u001b[0;34m.\u001b[0m\u001b[0minput_columns\u001b[0m\u001b[0;34m]\u001b[0m\u001b[0;34m.\u001b[0m\u001b[0mvalues\u001b[0m\u001b[0;34m)\u001b[0m\u001b[0;34m\u001b[0m\u001b[0;34m\u001b[0m\u001b[0m\n\u001b[1;32m    689\u001b[0m \u001b[0;34m\u001b[0m\u001b[0m\n",
      "\u001b[0;32m~/anaconda/envs/py3tensor/lib/python3.7/site-packages/pandas/core/frame.py\u001b[0m in \u001b[0;36m__setitem__\u001b[0;34m(self, key, value)\u001b[0m\n\u001b[1;32m   3365\u001b[0m             \u001b[0mself\u001b[0m\u001b[0;34m.\u001b[0m\u001b[0m_setitem_frame\u001b[0m\u001b[0;34m(\u001b[0m\u001b[0mkey\u001b[0m\u001b[0;34m,\u001b[0m \u001b[0mvalue\u001b[0m\u001b[0;34m)\u001b[0m\u001b[0;34m\u001b[0m\u001b[0;34m\u001b[0m\u001b[0m\n\u001b[1;32m   3366\u001b[0m         \u001b[0;32melif\u001b[0m \u001b[0misinstance\u001b[0m\u001b[0;34m(\u001b[0m\u001b[0mkey\u001b[0m\u001b[0;34m,\u001b[0m \u001b[0;34m(\u001b[0m\u001b[0mSeries\u001b[0m\u001b[0;34m,\u001b[0m \u001b[0mnp\u001b[0m\u001b[0;34m.\u001b[0m\u001b[0mndarray\u001b[0m\u001b[0;34m,\u001b[0m \u001b[0mlist\u001b[0m\u001b[0;34m,\u001b[0m \u001b[0mIndex\u001b[0m\u001b[0;34m)\u001b[0m\u001b[0;34m)\u001b[0m\u001b[0;34m:\u001b[0m\u001b[0;34m\u001b[0m\u001b[0;34m\u001b[0m\u001b[0m\n\u001b[0;32m-> 3367\u001b[0;31m             \u001b[0mself\u001b[0m\u001b[0;34m.\u001b[0m\u001b[0m_setitem_array\u001b[0m\u001b[0;34m(\u001b[0m\u001b[0mkey\u001b[0m\u001b[0;34m,\u001b[0m \u001b[0mvalue\u001b[0m\u001b[0;34m)\u001b[0m\u001b[0;34m\u001b[0m\u001b[0;34m\u001b[0m\u001b[0m\n\u001b[0m\u001b[1;32m   3368\u001b[0m         \u001b[0;32melse\u001b[0m\u001b[0;34m:\u001b[0m\u001b[0;34m\u001b[0m\u001b[0;34m\u001b[0m\u001b[0m\n\u001b[1;32m   3369\u001b[0m             \u001b[0;31m# set column\u001b[0m\u001b[0;34m\u001b[0m\u001b[0;34m\u001b[0m\u001b[0;34m\u001b[0m\u001b[0m\n",
      "\u001b[0;32m~/anaconda/envs/py3tensor/lib/python3.7/site-packages/pandas/core/frame.py\u001b[0m in \u001b[0;36m_setitem_array\u001b[0;34m(self, key, value)\u001b[0m\n\u001b[1;32m   3387\u001b[0m             \u001b[0;32mif\u001b[0m \u001b[0misinstance\u001b[0m\u001b[0;34m(\u001b[0m\u001b[0mvalue\u001b[0m\u001b[0;34m,\u001b[0m \u001b[0mDataFrame\u001b[0m\u001b[0;34m)\u001b[0m\u001b[0;34m:\u001b[0m\u001b[0;34m\u001b[0m\u001b[0;34m\u001b[0m\u001b[0m\n\u001b[1;32m   3388\u001b[0m                 \u001b[0;32mif\u001b[0m \u001b[0mlen\u001b[0m\u001b[0;34m(\u001b[0m\u001b[0mvalue\u001b[0m\u001b[0;34m.\u001b[0m\u001b[0mcolumns\u001b[0m\u001b[0;34m)\u001b[0m \u001b[0;34m!=\u001b[0m \u001b[0mlen\u001b[0m\u001b[0;34m(\u001b[0m\u001b[0mkey\u001b[0m\u001b[0;34m)\u001b[0m\u001b[0;34m:\u001b[0m\u001b[0;34m\u001b[0m\u001b[0;34m\u001b[0m\u001b[0m\n\u001b[0;32m-> 3389\u001b[0;31m                     \u001b[0;32mraise\u001b[0m \u001b[0mValueError\u001b[0m\u001b[0;34m(\u001b[0m\u001b[0;34m'Columns must be same length as key'\u001b[0m\u001b[0;34m)\u001b[0m\u001b[0;34m\u001b[0m\u001b[0;34m\u001b[0m\u001b[0m\n\u001b[0m\u001b[1;32m   3390\u001b[0m                 \u001b[0;32mfor\u001b[0m \u001b[0mk1\u001b[0m\u001b[0;34m,\u001b[0m \u001b[0mk2\u001b[0m \u001b[0;32min\u001b[0m \u001b[0mzip\u001b[0m\u001b[0;34m(\u001b[0m\u001b[0mkey\u001b[0m\u001b[0;34m,\u001b[0m \u001b[0mvalue\u001b[0m\u001b[0;34m.\u001b[0m\u001b[0mcolumns\u001b[0m\u001b[0;34m)\u001b[0m\u001b[0;34m:\u001b[0m\u001b[0;34m\u001b[0m\u001b[0;34m\u001b[0m\u001b[0m\n\u001b[1;32m   3391\u001b[0m                     \u001b[0mself\u001b[0m\u001b[0;34m[\u001b[0m\u001b[0mk1\u001b[0m\u001b[0;34m]\u001b[0m \u001b[0;34m=\u001b[0m \u001b[0mvalue\u001b[0m\u001b[0;34m[\u001b[0m\u001b[0mk2\u001b[0m\u001b[0;34m]\u001b[0m\u001b[0;34m\u001b[0m\u001b[0;34m\u001b[0m\u001b[0m\n",
      "\u001b[0;31mValueError\u001b[0m: Columns must be same length as key"
     ]
    }
   ],
   "source": [
    "data_encoder_cols = [datawig.NumericalEncoder('DMDHRAGE'), \n",
    "                     datawig.NumericalEncoder('RIDAGEYR'), \n",
    "                     datawig.NumericalEncoder('DR1TKCAL'), \n",
    "                     datawig.NumericalEncoder('DR1TM161'), \n",
    "                     datawig.NumericalEncoder('DR1TS100'), \n",
    "                     datawig.NumericalEncoder('DR1TS140'), \n",
    "                     datawig.NumericalEncoder('DR1TSUGR'), \n",
    "                     datawig.NumericalEncoder('DR2TNIAC'), \n",
    "                     datawig.NumericalEncoder('DR2TPROT'), \n",
    "                     datawig.NumericalEncoder('DR1_WATER'), \n",
    "                     datawig.NumericalEncoder('BPXSY2'), \n",
    "                     datawig.NumericalEncoder('BPXSY1'), \n",
    "                     datawig.NumericalEncoder('BPXDI2'),\n",
    "                     datawig.NumericalEncoder('BPXDI1'),\n",
    "                     datawig.NumericalEncoder('BMXARMC'),\n",
    "                     datawig.NumericalEncoder('BMXARML'),\n",
    "                     datawig.NumericalEncoder('BMXHT'),\n",
    "                     datawig.NumericalEncoder('LBXHBS'),\n",
    "                     datawig.NumericalEncoder('LBDLYMNO'),\n",
    "                     datawig.NumericalEncoder('LBDMONO'),\n",
    "                     datawig.NumericalEncoder('LBDNENO'),\n",
    "                     datawig.NumericalEncoder('LBXLYPCT'),\n",
    "                     datawig.NumericalEncoder('LBXMCHSI'),\n",
    "                     datawig.NumericalEncoder('LBXMOPCT'),\n",
    "                     datawig.NumericalEncoder('LBXMPSI'),\n",
    "                     datawig.NumericalEncoder('LBXNEPCT'),\n",
    "                     datawig.NumericalEncoder('LBXRBCSI'),\n",
    "                     datawig.NumericalEncoder('LBXRDW'),\n",
    "                     datawig.NumericalEncoder('LBDSCASI'),\n",
    "                     datawig.NumericalEncoder('LBDSTPSI'),\n",
    "                     datawig.NumericalEncoder('LBXSCA'),\n",
    "                     datawig.NumericalEncoder('LBXSNASI'),\n",
    "                     datawig.NumericalEncoder('LBXSTP'),\n",
    "                     datawig.NumericalEncoder('HSD010'),\n",
    "                     datawig.NumericalEncoder('BMXBMI'),\n",
    "                     datawig.NumericalEncoder('BMXWT'),\n",
    "                     datawig.NumericalEncoder('BMXHT'),\n",
    "                     datawig.CategoricalEncoder('DMQMILIT'),\n",
    "                     datawig.CategoricalEncoder('DR1HELPD'),\n",
    "                     datawig.CategoricalEncoder('DR2HELPD'),\n",
    "                     datawig.CategoricalEncoder('BPAEN2'),\n",
    "                     datawig.CategoricalEncoder('BPXPTY'),\n",
    "                     datawig.CategoricalEncoder('BPQ040A'),\n",
    "                     datawig.CategoricalEncoder('KIQ022'),\n",
    "                     datawig.CategoricalEncoder('MCQ010'),\n",
    "                     datawig.CategoricalEncoder('MCQ160N'),\n",
    "                     datawig.CategoricalEncoder('PAQ620'),\n",
    "                     datawig.CategoricalEncoder('PFQ059'),\n",
    "                     datawig.CategoricalEncoder('HUQ090'),\n",
    "                     datawig.CategoricalEncoder('SXQ'),\n",
    "                     datawig.CategoricalEncoder('RIDRETH1#1.0'),\n",
    "                     datawig.CategoricalEncoder('RIDRETH1#2.0'),\n",
    "                     datawig.CategoricalEncoder('RIDRETH1#3.0'),\n",
    "                     datawig.CategoricalEncoder('RIDRETH1#4.0'),\n",
    "                     datawig.CategoricalEncoder('RIDRETH1#5.0')\n",
    "                    ]\n",
    "\n",
    "\n",
    "data_featurizer_cols = [datawig.NumericalFeaturizer('DMDHRAGE'), \n",
    "                     datawig.NumericalFeaturizer('RIDAGEYR'), \n",
    "                     datawig.NumericalFeaturizer('DR1TKCAL'), \n",
    "                     datawig.NumericalFeaturizer('DR1TM161'), \n",
    "                     datawig.NumericalFeaturizer('DR1TS100'), \n",
    "                     datawig.NumericalFeaturizer('DR1TS140'), \n",
    "                     datawig.NumericalFeaturizer('DR1TSUGR'), \n",
    "                     datawig.NumericalFeaturizer('DR2TNIAC'), \n",
    "                     datawig.NumericalFeaturizer('DR2TPROT'), \n",
    "                     datawig.NumericalFeaturizer('DR1_WATER'), \n",
    "                     datawig.NumericalFeaturizer('BPXSY2'), \n",
    "                     datawig.NumericalFeaturizer('BPXSY1'), \n",
    "                     datawig.NumericalFeaturizer('BPXDI2'),\n",
    "                     datawig.NumericalFeaturizer('BPXDI1'),\n",
    "                     datawig.NumericalFeaturizer('BMXARMC'),\n",
    "                     datawig.NumericalFeaturizer('BMXARML'),\n",
    "                     datawig.NumericalFeaturizer('BMXHT'),\n",
    "                     datawig.NumericalFeaturizer('LBXHBS'),\n",
    "                     datawig.NumericalFeaturizer('LBDLYMNO'),\n",
    "                     datawig.NumericalFeaturizer('LBDMONO'),\n",
    "                     datawig.NumericalFeaturizer('LBDNENO'),\n",
    "                     datawig.NumericalFeaturizer('LBXLYPCT'),\n",
    "                     datawig.NumericalFeaturizer('LBXMCHSI'),\n",
    "                     datawig.NumericalFeaturizer('LBXMOPCT'),\n",
    "                     datawig.NumericalFeaturizer('LBXMPSI'),\n",
    "                     datawig.NumericalFeaturizer('LBXNEPCT'),\n",
    "                     datawig.NumericalFeaturizer('LBXRBCSI'),\n",
    "                     datawig.NumericalFeaturizer('LBXRDW'),\n",
    "                     datawig.NumericalFeaturizer('LBDSCASI'),\n",
    "                     datawig.NumericalFeaturizer('LBDSTPSI'),\n",
    "                     datawig.NumericalFeaturizer('LBXSCA'),\n",
    "                     datawig.NumericalFeaturizer('LBXSNASI'),\n",
    "                     datawig.NumericalFeaturizer('LBXSTP'),\n",
    "                     datawig.NumericalFeaturizer('HSD010'),\n",
    "                     datawig.NumericalFeaturizer('BMXBMI'),\n",
    "                     datawig.NumericalFeaturizer('BMXWT'),\n",
    "                     datawig.NumericalFeaturizer('BMXHT'),\n",
    "                     datawig.EmbeddingFeaturizer('DMQMILIT'),\n",
    "                     datawig.EmbeddingFeaturizer('DR1HELPD'),\n",
    "                     datawig.EmbeddingFeaturizer('DR2HELPD'),\n",
    "                     datawig.EmbeddingFeaturizer('BPAEN2'),\n",
    "                     datawig.EmbeddingFeaturizer('BPXPTY'),\n",
    "                     datawig.EmbeddingFeaturizer('BPQ040A'),\n",
    "                     datawig.EmbeddingFeaturizer('KIQ022'),\n",
    "                     datawig.EmbeddingFeaturizer('MCQ010'),\n",
    "                     datawig.EmbeddingFeaturizer('MCQ160N'),\n",
    "                     datawig.EmbeddingFeaturizer('PAQ620'),\n",
    "                     datawig.EmbeddingFeaturizer('PFQ059'),\n",
    "                     datawig.EmbeddingFeaturizer('HUQ090'),\n",
    "                     datawig.EmbeddingFeaturizer('SXQ'),\n",
    "                     datawig.EmbeddingFeaturizer('RIDRETH1#1.0'),\n",
    "                     datawig.EmbeddingFeaturizer('RIDRETH1#2.0'),\n",
    "                     datawig.EmbeddingFeaturizer('RIDRETH1#3.0'),\n",
    "                     datawig.EmbeddingFeaturizer('RIDRETH1#4.0'),\n",
    "                     datawig.EmbeddingFeaturizer('RIDRETH1#5.0')\n",
    "                    ]\n",
    "label_encoder_cols = [datawig.CategoricalEncoder('MCQ220')]\n",
    "\n",
    "imputer = datawig.Imputer(\n",
    "    data_featurizers=data_featurizer_cols,\n",
    "    label_encoders=label_encoder_cols,\n",
    "    data_encoders=data_encoder_cols,\n",
    "    output_path='imputer_model'\n",
    ")\n",
    "\n",
    "imputer.fit(train_df=df_train)\n",
    "predictions = imputer.predict(df_test)"
   ]
  },
  {
   "cell_type": "code",
   "execution_count": 92,
   "metadata": {
    "collapsed": false
   },
   "outputs": [
    {
     "name": "stdout",
     "output_type": "stream",
     "text": [
      "55 55\n"
     ]
    }
   ],
   "source": [
    "print(len(data_encoder_cols),len(data_featurizer_cols))"
   ]
  },
  {
   "cell_type": "code",
   "execution_count": 88,
   "metadata": {
    "collapsed": false
   },
   "outputs": [
    {
     "data": {
      "text/plain": [
       "count    9901.0\n",
       "mean        0.0\n",
       "std         0.0\n",
       "min         0.0\n",
       "25%         0.0\n",
       "50%         0.0\n",
       "75%         0.0\n",
       "max         0.0\n",
       "Name: MCQ220_imputed, dtype: float64"
      ]
     },
     "execution_count": 88,
     "metadata": {},
     "output_type": "execute_result"
    }
   ],
   "source": [
    "predictions['MCQ220_imputed'].describe()"
   ]
  },
  {
   "cell_type": "code",
   "execution_count": 85,
   "metadata": {
    "collapsed": false
   },
   "outputs": [
    {
     "data": {
      "text/plain": [
       "Index(['DMDHRAGE', 'DMQMILIT', 'RIDAGEYR', 'DR1HELPD', 'DR1TKCAL', 'DR1TM161',\n",
       "       'DR1TS100', 'DR1TS140', 'DR1TSUGR', 'DR2HELPD', 'DR2TNIAC', 'DR2TPROT',\n",
       "       'BPAEN2', 'BPXPTY', 'BPXSY2', 'BPXSY1', 'BPXDI2', 'BPXDI1', 'BMXARMC',\n",
       "       'BMXARML', 'BMXHT', 'LBXHBS', 'LBDLYMNO', 'LBDMONO', 'LBDNENO',\n",
       "       'LBXLYPCT', 'LBXMCHSI', 'LBXMOPCT', 'LBXMPSI', 'LBXNEPCT', 'LBXRBCSI',\n",
       "       'LBXRDW', 'LBDSCASI', 'LBDSTPSI', 'LBXSCA', 'LBXSNASI', 'LBXSTP',\n",
       "       'BPQ040A', 'HSD010', 'KIQ022', 'MCQ010', 'MCQ160N', 'PAQ620', 'PFQ059',\n",
       "       'HUQ090', 'DR1_WATER', 'SXQ', 'RIAGENDR', 'DMDEDUC2', 'BMXBMI', 'BMXWT',\n",
       "       'BMXHT', 'RIDRETH1#1.0', 'RIDRETH1#2.0', 'RIDRETH1#3.0', 'RIDRETH1#4.0',\n",
       "       'RIDRETH1#5.0', 'MCQ220'],\n",
       "      dtype='object')"
      ]
     },
     "execution_count": 85,
     "metadata": {},
     "output_type": "execute_result"
    }
   ],
   "source": [
    "df_train.columns"
   ]
  },
  {
   "cell_type": "markdown",
   "metadata": {},
   "source": [
    "### Build Simple Voter based on 4 high performing prediction algorithms"
   ]
  },
  {
   "cell_type": "code",
   "execution_count": 114,
   "metadata": {
    "collapsed": false
   },
   "outputs": [
    {
     "name": "stdout",
     "output_type": "stream",
     "text": [
      "(2198,)\n",
      "(2198,)\n",
      "(2198,)\n",
      "(2198,)\n"
     ]
    }
   ],
   "source": [
    "print(preds_tst_RCL.flatten().shape)\n",
    "print(preds_tst_SVC.flatten().shape)\n",
    "print(preds_tst_LR.flatten().shape)\n",
    "print(preds_tst_bin.flatten().shape)"
   ]
  },
  {
   "cell_type": "code",
   "execution_count": 126,
   "metadata": {
    "collapsed": false
   },
   "outputs": [
    {
     "name": "stdout",
     "output_type": "stream",
     "text": [
      "accu_tst_ensemble 0.7015468607825296\n"
     ]
    }
   ],
   "source": [
    "pred = 0.25*(1.001*preds_tst_RCL.flatten() + preds_tst_SVC.flatten() + preds_tst_LR.flatten() + preds_tst_bin.flatten())\n",
    "pred_bin = pred>=0.5\n",
    "accu = np.mean(pred_bin==targets_tst)\n",
    "print('accu_tst_ensemble', accu)\n",
    "print(classification_report(targets_tst, pred_bin))"
   ]
  },
  {
   "cell_type": "code",
   "execution_count": 127,
   "metadata": {
    "collapsed": false
   },
   "outputs": [
    {
     "name": "stdout",
     "output_type": "stream",
     "text": [
      "              precision    recall  f1-score   support\n",
      "\n",
      "         0.0       0.72      0.94      0.81      1500\n",
      "         1.0       0.59      0.20      0.30       698\n",
      "\n",
      "    accuracy                           0.70      2198\n",
      "   macro avg       0.65      0.57      0.55      2198\n",
      "weighted avg       0.68      0.70      0.65      2198\n",
      "\n",
      "              precision    recall  f1-score   support\n",
      "\n",
      "         0.0       0.72      0.94      0.81      1500\n",
      "         1.0       0.62      0.20      0.30       698\n",
      "\n",
      "    accuracy                           0.71      2198\n",
      "   macro avg       0.67      0.57      0.56      2198\n",
      "weighted avg       0.69      0.71      0.65      2198\n",
      "\n",
      "              precision    recall  f1-score   support\n",
      "\n",
      "         0.0       0.70      0.95      0.81      1500\n",
      "         1.0       0.55      0.14      0.22       698\n",
      "\n",
      "    accuracy                           0.69      2198\n",
      "   macro avg       0.63      0.54      0.51      2198\n",
      "weighted avg       0.65      0.69      0.62      2198\n",
      "\n",
      "              precision    recall  f1-score   support\n",
      "\n",
      "         0.0       0.71      0.93      0.81      1500\n",
      "         1.0       0.57      0.19      0.28       698\n",
      "\n",
      "    accuracy                           0.70      2198\n",
      "   macro avg       0.64      0.56      0.55      2198\n",
      "weighted avg       0.67      0.70      0.64      2198\n",
      "\n",
      "              precision    recall  f1-score   support\n",
      "\n",
      "         0.0       0.71      0.93      0.81      1500\n",
      "         1.0       0.55      0.18      0.27       698\n",
      "\n",
      "    accuracy                           0.69      2198\n",
      "   macro avg       0.63      0.56      0.54      2198\n",
      "weighted avg       0.66      0.69      0.64      2198\n",
      "\n"
     ]
    }
   ],
   "source": [
    "from sklearn.metrics import classification_report\n",
    "\n",
    "print(classification_report(targets_tst, pred_bin))\n",
    "print(classification_report(targets_tst, preds_tst_RCL.flatten()))\n",
    "print(classification_report(targets_tst, preds_tst_SVC.flatten()))\n",
    "print(classification_report(targets_tst, preds_tst_LR.flatten()))\n",
    "print(classification_report(targets_tst, preds_tst_bin.flatten()))\n"
   ]
  },
  {
   "cell_type": "code",
   "execution_count": 189,
   "metadata": {
    "collapsed": false
   },
   "outputs": [
    {
     "name": "stdout",
     "output_type": "stream",
     "text": [
      "accu_tst_RFC 0.6329261198371146\n",
      "accu_tst_SVC 0.6352530541012217\n",
      "accu_tst_LR 0.6311809191390343\n",
      "              precision    recall  f1-score   support\n",
      "\n",
      "         0.0       0.66      0.77      0.71      1000\n",
      "         1.0       0.58      0.44      0.50       719\n",
      "\n",
      "    accuracy                           0.63      1719\n",
      "   macro avg       0.62      0.61      0.61      1719\n",
      "weighted avg       0.63      0.63      0.62      1719\n",
      "\n",
      "              precision    recall  f1-score   support\n",
      "\n",
      "         0.0       0.66      0.78      0.71      1000\n",
      "         1.0       0.59      0.44      0.50       719\n",
      "\n",
      "    accuracy                           0.64      1719\n",
      "   macro avg       0.62      0.61      0.61      1719\n",
      "weighted avg       0.63      0.64      0.62      1719\n",
      "\n",
      "              precision    recall  f1-score   support\n",
      "\n",
      "         0.0       0.67      0.73      0.70      1000\n",
      "         1.0       0.57      0.50      0.53       719\n",
      "\n",
      "    accuracy                           0.63      1719\n",
      "   macro avg       0.62      0.61      0.61      1719\n",
      "weighted avg       0.63      0.63      0.63      1719\n",
      "\n"
     ]
    }
   ],
   "source": [
    "features_trn2, targets_trn2 = get_batch(n_size=8000, phase='train')\n",
    "features_tst2, targets_tst2 = get_batch(n_size=2000, phase='test')\n",
    "\n",
    "\n",
    "clf = RandomForestClassifier(n_estimators=750)\n",
    "clf.fit(features_trn2, targets_trn2)\n",
    "preds_tst_RCL = clf.predict(features_tst2)\n",
    "accu = np.mean(preds_tst_RCL==targets_tst2)\n",
    "print('accu_tst_RFC', accu)\n",
    "\n",
    "clf = SVC(gamma='auto')\n",
    "clf.fit(features_trn2, targets_trn2)\n",
    "preds_tst_SVC = clf.predict(features_tst2)\n",
    "accu = np.mean(preds_tst_SVC==targets_tst2)\n",
    "print('accu_tst_SVC', accu)\n",
    "\n",
    "clf = LogisticRegression(solver='lbfgs', max_iter=1000)\n",
    "clf.fit(features_trn2, targets_trn2)\n",
    "preds_tst_LR = clf.predict(features_tst2)\n",
    "accu = np.mean(preds_tst_LR==targets_tst2)\n",
    "print('accu_tst_LR', accu)\n",
    "\n",
    "\n",
    "print(classification_report(targets_tst2, preds_tst_RCL.flatten()))\n",
    "print(classification_report(targets_tst2, preds_tst_SVC.flatten()))\n",
    "print(classification_report(targets_tst2, preds_tst_LR.flatten()))"
   ]
  },
  {
   "cell_type": "code",
   "execution_count": 190,
   "metadata": {
    "collapsed": false
   },
   "outputs": [
    {
     "name": "stdout",
     "output_type": "stream",
     "text": [
      "Epoch 1/20\n",
      "7206/7206 [==============================] - 4s 589us/step - loss: 0.6683 - acc: 0.5887\n",
      "Epoch 2/20\n",
      "7206/7206 [==============================] - 3s 414us/step - loss: 0.6446 - acc: 0.6343\n",
      "Epoch 3/20\n",
      "7206/7206 [==============================] - 3s 407us/step - loss: 0.6407 - acc: 0.6400\n",
      "Epoch 4/20\n",
      "7206/7206 [==============================] - 3s 352us/step - loss: 0.6385 - acc: 0.6474\n",
      "Epoch 5/20\n",
      "7206/7206 [==============================] - 3s 368us/step - loss: 0.6367 - acc: 0.6493\n",
      "Epoch 6/20\n",
      "7206/7206 [==============================] - 3s 433us/step - loss: 0.6355 - acc: 0.6485\n",
      "Epoch 7/20\n",
      "7206/7206 [==============================] - 3s 392us/step - loss: 0.6341 - acc: 0.6461\n",
      "Epoch 8/20\n",
      "7206/7206 [==============================] - 3s 414us/step - loss: 0.6339 - acc: 0.6492\n",
      "Epoch 9/20\n",
      "7206/7206 [==============================] - 3s 363us/step - loss: 0.6323 - acc: 0.6514\n",
      "Epoch 10/20\n",
      "7206/7206 [==============================] - 3s 374us/step - loss: 0.6321 - acc: 0.6493\n",
      "Epoch 11/20\n",
      "7206/7206 [==============================] - 3s 388us/step - loss: 0.6303 - acc: 0.6525\n",
      "Epoch 12/20\n",
      "7206/7206 [==============================] - 3s 401us/step - loss: 0.6285 - acc: 0.6515\n",
      "Epoch 13/20\n",
      "7206/7206 [==============================] - 3s 449us/step - loss: 0.6288 - acc: 0.6550\n",
      "Epoch 14/20\n",
      "7206/7206 [==============================] - 3s 382us/step - loss: 0.6277 - acc: 0.6554\n",
      "Epoch 15/20\n",
      "7206/7206 [==============================] - 3s 363us/step - loss: 0.6256 - acc: 0.6538\n",
      "Epoch 16/20\n",
      "7206/7206 [==============================] - 3s 351us/step - loss: 0.6258 - acc: 0.6596\n",
      "Epoch 17/20\n",
      "7206/7206 [==============================] - 3s 356us/step - loss: 0.6243 - acc: 0.6576\n",
      "Epoch 18/20\n",
      "7206/7206 [==============================] - 3s 361us/step - loss: 0.6250 - acc: 0.6576\n",
      "Epoch 19/20\n",
      "7206/7206 [==============================] - 3s 365us/step - loss: 0.6249 - acc: 0.6595\n",
      "Epoch 20/20\n",
      "7206/7206 [==============================] - 3s 361us/step - loss: 0.6238 - acc: 0.6572\n"
     ]
    }
   ],
   "source": [
    "classifier = Sequential()\n",
    "#First Hidden Layer\n",
    "classifier.add(Dense(16, activation='relu', kernel_initializer='random_normal', input_dim=features_trn2.shape[1]))\n",
    "#Second  Hidden Layer\n",
    "classifier.add(Dense(8, activation='relu', kernel_initializer='random_normal'))\n",
    "#Output Layer\n",
    "classifier.add(Dense(1, activation='sigmoid', kernel_initializer='random_normal'))\n",
    "\n",
    "#Compiling the neural network\n",
    "classifier.compile(optimizer ='adam',loss='binary_crossentropy', metrics =['accuracy'])\n",
    "\n",
    "#Fitting the data to the training dataset\n",
    "classifier.fit(features_trn2,targets_trn2, batch_size=5, epochs=20)\n",
    "\n",
    "#predict on the test set\n",
    "preds_tst=classifier.predict(features_tst2)\n",
    "preds_tst_bin =(preds_tst>0.5)"
   ]
  },
  {
   "cell_type": "code",
   "execution_count": 160,
   "metadata": {
    "collapsed": false
   },
   "outputs": [
    {
     "name": "stdout",
     "output_type": "stream",
     "text": [
      "accu_tst_NN 0.6733333333333333\n",
      "              precision    recall  f1-score   support\n",
      "\n",
      "         0.0       0.63      0.86      0.72       450\n",
      "         1.0       0.77      0.49      0.60       450\n",
      "\n",
      "    accuracy                           0.67       900\n",
      "   macro avg       0.70      0.67      0.66       900\n",
      "weighted avg       0.70      0.67      0.66       900\n",
      "\n"
     ]
    }
   ],
   "source": [
    "#measure accuracy\n",
    "accu = np.mean(preds_tst_bin.flatten()==targets_tst2)\n",
    "print('accu_tst_NN', accu)\n",
    "print(classification_report(targets_tst2, preds_tst_bin.flatten()))"
   ]
  },
  {
   "cell_type": "code",
   "execution_count": 191,
   "metadata": {
    "collapsed": false
   },
   "outputs": [
    {
     "name": "stdout",
     "output_type": "stream",
     "text": [
      "accu_tst_ensemble 0.6399069226294357\n",
      "              precision    recall  f1-score   support\n",
      "\n",
      "         0.0       0.67      0.75      0.71      1000\n",
      "         1.0       0.58      0.49      0.53       719\n",
      "\n",
      "    accuracy                           0.64      1719\n",
      "   macro avg       0.63      0.62      0.62      1719\n",
      "weighted avg       0.63      0.64      0.63      1719\n",
      "\n"
     ]
    }
   ],
   "source": [
    "pred = 0.25*(preds_tst_RCL.flatten() + preds_tst_SVC.flatten() + preds_tst_LR.flatten() + 1.01*preds_tst_bin.flatten())\n",
    "pred_bin = pred>=0.5\n",
    "accu = np.mean(pred_bin==targets_tst2)\n",
    "print('accu_tst_ensemble', accu)\n",
    "print(classification_report(targets_tst2, pred_bin))"
   ]
  },
  {
   "cell_type": "code",
   "execution_count": 187,
   "metadata": {
    "collapsed": false
   },
   "outputs": [
    {
     "name": "stdout",
     "output_type": "stream",
     "text": [
      "accu_tst_RFC 0.7374710871241326\n",
      "accu_tst_SVC 0.738242097147263\n",
      "accu_tst_LR 0.7239784117193524\n",
      "              precision    recall  f1-score   support\n",
      "\n",
      "         0.0       0.75      0.95      0.84      1875\n",
      "         1.0       0.59      0.17      0.27       719\n",
      "\n",
      "    accuracy                           0.74      2594\n",
      "   macro avg       0.67      0.56      0.55      2594\n",
      "weighted avg       0.71      0.74      0.68      2594\n",
      "\n",
      "              precision    recall  f1-score   support\n",
      "\n",
      "         0.0       0.75      0.97      0.84      1875\n",
      "         1.0       0.62      0.15      0.24       719\n",
      "\n",
      "    accuracy                           0.74      2594\n",
      "   macro avg       0.68      0.56      0.54      2594\n",
      "weighted avg       0.71      0.74      0.67      2594\n",
      "\n",
      "              precision    recall  f1-score   support\n",
      "\n",
      "         0.0       0.75      0.94      0.83      1875\n",
      "         1.0       0.51      0.16      0.25       719\n",
      "\n",
      "    accuracy                           0.72      2594\n",
      "   macro avg       0.63      0.55      0.54      2594\n",
      "weighted avg       0.68      0.72      0.67      2594\n",
      "\n"
     ]
    }
   ],
   "source": [
    "#features_trn3, targets_trn3 = get_batch(n_size=15000, phase='train')\n",
    "#features_tst3, targets_tst3 = get_batch(n_size=3750, phase='test')\n",
    "\n",
    "\n",
    "clf = RandomForestClassifier(n_estimators=750)\n",
    "clf.fit(features_trn3, targets_trn3)\n",
    "preds_tst_RCL = clf.predict(features_tst3)\n",
    "accu = np.mean(preds_tst_RCL==targets_tst3)\n",
    "print('accu_tst_RFC', accu)\n",
    "\n",
    "clf = SVC(gamma='auto')\n",
    "clf.fit(features_trn3, targets_trn3)\n",
    "preds_tst_SVC = clf.predict(features_tst3)\n",
    "accu = np.mean(preds_tst_SVC==targets_tst3)\n",
    "print('accu_tst_SVC', accu)\n",
    "\n",
    "clf = LogisticRegression(solver='lbfgs', max_iter=2000)\n",
    "clf.fit(features_trn3, targets_trn3)\n",
    "preds_tst_LR = clf.predict(features_tst3)\n",
    "accu = np.mean(preds_tst_LR==targets_tst3)\n",
    "print('accu_tst_LR', accu)\n",
    "\n",
    "\n",
    "print(classification_report(targets_tst3, preds_tst_RCL.flatten()))\n",
    "print(classification_report(targets_tst3, preds_tst_SVC.flatten()))\n",
    "print(classification_report(targets_tst3, preds_tst_LR.flatten()))"
   ]
  },
  {
   "cell_type": "code",
   "execution_count": 184,
   "metadata": {
    "collapsed": false
   },
   "outputs": [
    {
     "name": "stdout",
     "output_type": "stream",
     "text": [
      "Epoch 1/20\n",
      "10706/10706 [==============================] - 6s 583us/step - loss: 0.5938 - acc: 0.7005\n",
      "Epoch 2/20\n",
      "10706/10706 [==============================] - 4s 381us/step - loss: 0.5775 - acc: 0.7005\n",
      "Epoch 3/20\n",
      "10706/10706 [==============================] - 4s 393us/step - loss: 0.5765 - acc: 0.7088\n",
      "Epoch 4/20\n",
      "10706/10706 [==============================] - 4s 377us/step - loss: 0.5752 - acc: 0.7089\n",
      "Epoch 5/20\n",
      "10706/10706 [==============================] - 5s 463us/step - loss: 0.5736 - acc: 0.7128\n",
      "Epoch 6/20\n",
      "10706/10706 [==============================] - 4s 408us/step - loss: 0.5728 - acc: 0.7098\n",
      "Epoch 7/20\n",
      "10706/10706 [==============================] - 4s 413us/step - loss: 0.5727 - acc: 0.7137\n",
      "Epoch 8/20\n",
      "10706/10706 [==============================] - 4s 383us/step - loss: 0.5713 - acc: 0.7130\n",
      "Epoch 9/20\n",
      "10706/10706 [==============================] - 4s 390us/step - loss: 0.5713 - acc: 0.7131\n",
      "Epoch 10/20\n",
      "10706/10706 [==============================] - 5s 421us/step - loss: 0.5707 - acc: 0.7136\n",
      "Epoch 11/20\n",
      "10706/10706 [==============================] - 5s 423us/step - loss: 0.5700 - acc: 0.7142\n",
      "Epoch 12/20\n",
      "10706/10706 [==============================] - 5s 423us/step - loss: 0.5683 - acc: 0.7160\n",
      "Epoch 13/20\n",
      "10706/10706 [==============================] - 4s 379us/step - loss: 0.5679 - acc: 0.7144\n",
      "Epoch 14/20\n",
      "10706/10706 [==============================] - 4s 405us/step - loss: 0.5670 - acc: 0.7131\n",
      "Epoch 15/20\n",
      "10706/10706 [==============================] - 4s 413us/step - loss: 0.5660 - acc: 0.7154\n",
      "Epoch 16/20\n",
      "10706/10706 [==============================] - 4s 400us/step - loss: 0.5660 - acc: 0.7183\n",
      "Epoch 17/20\n",
      "10706/10706 [==============================] - 5s 423us/step - loss: 0.5638 - acc: 0.7176\n",
      "Epoch 18/20\n",
      "10706/10706 [==============================] - 4s 408us/step - loss: 0.5630 - acc: 0.7185\n",
      "Epoch 19/20\n",
      "10706/10706 [==============================] - 4s 397us/step - loss: 0.5627 - acc: 0.7170\n",
      "Epoch 20/20\n",
      "10706/10706 [==============================] - 4s 369us/step - loss: 0.5618 - acc: 0.7160\n",
      "accu_tst_NN 0.7239784117193524\n",
      "              precision    recall  f1-score   support\n",
      "\n",
      "         0.0       0.74      0.95      0.83      1875\n",
      "         1.0       0.51      0.13      0.21       719\n",
      "\n",
      "    accuracy                           0.72      2594\n",
      "   macro avg       0.62      0.54      0.52      2594\n",
      "weighted avg       0.68      0.72      0.66      2594\n",
      "\n"
     ]
    }
   ],
   "source": [
    "features_trn3, targets_trn3 = get_batch(n_size=15000, phase='train')\n",
    "features_tst3, targets_tst3 = get_batch(n_size=3750, phase='test')\n",
    "\n",
    "classifier = Sequential()\n",
    "#First Hidden Layer\n",
    "classifier.add(Dense(16, activation='relu', kernel_initializer='random_normal', input_dim=features_trn2.shape[1]))\n",
    "#Second  Hidden Layer\n",
    "classifier.add(Dense(8, activation='relu', kernel_initializer='random_normal'))\n",
    "#Output Layer\n",
    "classifier.add(Dense(1, activation='sigmoid', kernel_initializer='random_normal'))\n",
    "\n",
    "#Compiling the neural network\n",
    "classifier.compile(optimizer ='adam',loss='binary_crossentropy', metrics =['accuracy'])\n",
    "\n",
    "#Fitting the data to the training dataset\n",
    "classifier.fit(features_trn3,targets_trn3, batch_size=5, epochs=20)\n",
    "\n",
    "#predict on the test set\n",
    "preds_tst=classifier.predict(features_tst3)\n",
    "preds_tst_bin =(preds_tst>0.5)\n",
    "\n",
    "#measure accuracy\n",
    "accu = np.mean(preds_tst_bin.flatten()==targets_tst3)\n",
    "print('accu_tst_NN', accu)\n",
    "print(classification_report(targets_tst3, preds_tst_bin.flatten()))"
   ]
  },
  {
   "cell_type": "code",
   "execution_count": 188,
   "metadata": {
    "collapsed": false
   },
   "outputs": [
    {
     "name": "stdout",
     "output_type": "stream",
     "text": [
      "accu_tst_ensemble 0.7374710871241326\n",
      "              precision    recall  f1-score   support\n",
      "\n",
      "         0.0       0.75      0.95      0.84      1875\n",
      "         1.0       0.59      0.17      0.27       719\n",
      "\n",
      "    accuracy                           0.74      2594\n",
      "   macro avg       0.67      0.56      0.55      2594\n",
      "weighted avg       0.71      0.74      0.68      2594\n",
      "\n"
     ]
    }
   ],
   "source": [
    "pred = 0.25*(1.001*preds_tst_RCL.flatten() + preds_tst_SVC.flatten() + preds_tst_LR.flatten() + preds_tst_bin.flatten())\n",
    "pred_bin = pred>=0.5\n",
    "accu = np.mean(pred_bin==targets_tst3)\n",
    "print('accu_tst_ensemble', accu)\n",
    "print(classification_report(targets_tst3, pred_bin))"
   ]
  },
  {
   "cell_type": "code",
   "execution_count": null,
   "metadata": {
    "collapsed": true
   },
   "outputs": [],
   "source": []
  }
 ],
 "metadata": {
  "anaconda-cloud": {},
  "kernelspec": {
   "display_name": "Python [conda env:py3tensor]",
   "language": "python",
   "name": "conda-env-py3tensor-py"
  },
  "language_info": {
   "codemirror_mode": {
    "name": "ipython",
    "version": 3
   },
   "file_extension": ".py",
   "mimetype": "text/x-python",
   "name": "python",
   "nbconvert_exporter": "python",
   "pygments_lexer": "ipython3",
   "version": "3.7.3"
  }
 },
 "nbformat": 4,
 "nbformat_minor": 0
}
